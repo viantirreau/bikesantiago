{
 "cells": [
  {
   "cell_type": "code",
   "execution_count": 10,
   "metadata": {},
   "outputs": [],
   "source": [
    "import pandas as pd\n",
    "from tqdm import tqdm\n",
    "import matplotlib.pyplot as plt\n",
    "import seaborn as sns\n",
    "import plotly.figure_factory as ff\n",
    "import numpy as np\n",
    "sns.set(rc={'figure.figsize':(16, 9)})\n",
    "%config InlineBackend.figure_format = 'retina'"
   ]
  },
  {
   "cell_type": "code",
   "execution_count": 2,
   "metadata": {},
   "outputs": [
    {
     "data": {
      "text/html": [
       "<div>\n",
       "<style scoped>\n",
       "    .dataframe tbody tr th:only-of-type {\n",
       "        vertical-align: middle;\n",
       "    }\n",
       "\n",
       "    .dataframe tbody tr th {\n",
       "        vertical-align: top;\n",
       "    }\n",
       "\n",
       "    .dataframe thead th {\n",
       "        text-align: right;\n",
       "    }\n",
       "</style>\n",
       "<table border=\"1\" class=\"dataframe\">\n",
       "  <thead>\n",
       "    <tr style=\"text-align: right;\">\n",
       "      <th></th>\n",
       "      <th>system</th>\n",
       "      <th>brand</th>\n",
       "      <th>name</th>\n",
       "      <th>address.str</th>\n",
       "      <th>lat</th>\n",
       "      <th>lon</th>\n",
       "    </tr>\n",
       "    <tr>\n",
       "      <th>id</th>\n",
       "      <th></th>\n",
       "      <th></th>\n",
       "      <th></th>\n",
       "      <th></th>\n",
       "      <th></th>\n",
       "      <th></th>\n",
       "    </tr>\n",
       "  </thead>\n",
       "  <tbody>\n",
       "    <tr>\n",
       "      <th>3</th>\n",
       "      <td>11</td>\n",
       "      <td>bike_itau</td>\n",
       "      <td>P01 - Andrés Bello / Gral. Holley</td>\n",
       "      <td>General Holley 41, esquina sur oriente con A. ...</td>\n",
       "      <td>-33.41935</td>\n",
       "      <td>-70.60962</td>\n",
       "    </tr>\n",
       "    <tr>\n",
       "      <th>4</th>\n",
       "      <td>11</td>\n",
       "      <td>bike_itau</td>\n",
       "      <td>P02 - Italia / Marín</td>\n",
       "      <td>Italia 980, esquina NO con Marín</td>\n",
       "      <td>-33.44393</td>\n",
       "      <td>-70.62565</td>\n",
       "    </tr>\n",
       "    <tr>\n",
       "      <th>5</th>\n",
       "      <td>11</td>\n",
       "      <td>bike_itau</td>\n",
       "      <td>P03 - Suecia / El Vergel</td>\n",
       "      <td>El Vergel 2316, esquina NO con Suecia</td>\n",
       "      <td>-33.43282</td>\n",
       "      <td>-70.60363</td>\n",
       "    </tr>\n",
       "    <tr>\n",
       "      <th>6</th>\n",
       "      <td>11</td>\n",
       "      <td>bike_itau</td>\n",
       "      <td>P04 - Costanera Center 1</td>\n",
       "      <td>Nueva Tobalaba 12, Vereda Poniente frente a Co...</td>\n",
       "      <td>-33.41717</td>\n",
       "      <td>-70.60550</td>\n",
       "    </tr>\n",
       "    <tr>\n",
       "      <th>7</th>\n",
       "      <td>11</td>\n",
       "      <td>bike_itau</td>\n",
       "      <td>P05 - Costanera Center 2</td>\n",
       "      <td>Nueva Tobalaba 12, junto a ciclovía</td>\n",
       "      <td>-33.41705</td>\n",
       "      <td>-70.60497</td>\n",
       "    </tr>\n",
       "  </tbody>\n",
       "</table>\n",
       "</div>"
      ],
      "text/plain": [
       "    system      brand                               name  \\\n",
       "id                                                         \n",
       "3       11  bike_itau  P01 - Andrés Bello / Gral. Holley   \n",
       "4       11  bike_itau               P02 - Italia / Marín   \n",
       "5       11  bike_itau           P03 - Suecia / El Vergel   \n",
       "6       11  bike_itau           P04 - Costanera Center 1   \n",
       "7       11  bike_itau           P05 - Costanera Center 2   \n",
       "\n",
       "                                          address.str       lat       lon  \n",
       "id                                                                         \n",
       "3   General Holley 41, esquina sur oriente con A. ... -33.41935 -70.60962  \n",
       "4                    Italia 980, esquina NO con Marín -33.44393 -70.62565  \n",
       "5               El Vergel 2316, esquina NO con Suecia -33.43282 -70.60363  \n",
       "6   Nueva Tobalaba 12, Vereda Poniente frente a Co... -33.41717 -70.60550  \n",
       "7                 Nueva Tobalaba 12, junto a ciclovía -33.41705 -70.60497  "
      ]
     },
     "execution_count": 2,
     "metadata": {},
     "output_type": "execute_result"
    }
   ],
   "source": [
    "metadata = pd.read_csv(\"../raw-data/meta.csv\", index_col=0).rename(columns={\"address.lat\": \"lat\", \"address.lon\": \"lon\"})\n",
    "metadata[\"lat\"] = metadata[\"lat\"].str.replace(\",\", \".\").astype(float)\n",
    "metadata[\"lon\"] = metadata[\"lon\"].str.replace(\",\", \".\").astype(float)\n",
    "metadata.head()"
   ]
  },
  {
   "cell_type": "code",
   "execution_count": 3,
   "metadata": {},
   "outputs": [
    {
     "data": {
      "text/html": [
       "<div>\n",
       "<style scoped>\n",
       "    .dataframe tbody tr th:only-of-type {\n",
       "        vertical-align: middle;\n",
       "    }\n",
       "\n",
       "    .dataframe tbody tr th {\n",
       "        vertical-align: top;\n",
       "    }\n",
       "\n",
       "    .dataframe thead th {\n",
       "        text-align: right;\n",
       "    }\n",
       "</style>\n",
       "<table border=\"1\" class=\"dataframe\">\n",
       "  <thead>\n",
       "    <tr style=\"text-align: right;\">\n",
       "      <th></th>\n",
       "      <th>station_id</th>\n",
       "      <th>time</th>\n",
       "      <th>bikes</th>\n",
       "      <th>docks</th>\n",
       "      <th>is_online</th>\n",
       "    </tr>\n",
       "  </thead>\n",
       "  <tbody>\n",
       "    <tr>\n",
       "      <th>189941</th>\n",
       "      <td>288</td>\n",
       "      <td>2022-11-15 02:17:15</td>\n",
       "      <td>10</td>\n",
       "      <td>1</td>\n",
       "      <td>True</td>\n",
       "    </tr>\n",
       "    <tr>\n",
       "      <th>189942</th>\n",
       "      <td>46</td>\n",
       "      <td>2022-11-15 02:19:44</td>\n",
       "      <td>25</td>\n",
       "      <td>2</td>\n",
       "      <td>True</td>\n",
       "    </tr>\n",
       "    <tr>\n",
       "      <th>189943</th>\n",
       "      <td>202</td>\n",
       "      <td>2022-11-15 02:19:38</td>\n",
       "      <td>7</td>\n",
       "      <td>8</td>\n",
       "      <td>True</td>\n",
       "    </tr>\n",
       "    <tr>\n",
       "      <th>189944</th>\n",
       "      <td>78</td>\n",
       "      <td>2022-11-15 02:24:59</td>\n",
       "      <td>13</td>\n",
       "      <td>1</td>\n",
       "      <td>True</td>\n",
       "    </tr>\n",
       "    <tr>\n",
       "      <th>189945</th>\n",
       "      <td>78</td>\n",
       "      <td>2022-11-15 02:29:23</td>\n",
       "      <td>12</td>\n",
       "      <td>2</td>\n",
       "      <td>True</td>\n",
       "    </tr>\n",
       "  </tbody>\n",
       "</table>\n",
       "</div>"
      ],
      "text/plain": [
       "        station_id                time  bikes  docks  is_online\n",
       "189941         288 2022-11-15 02:17:15     10      1       True\n",
       "189942          46 2022-11-15 02:19:44     25      2       True\n",
       "189943         202 2022-11-15 02:19:38      7      8       True\n",
       "189944          78 2022-11-15 02:24:59     13      1       True\n",
       "189945          78 2022-11-15 02:29:23     12      2       True"
      ]
     },
     "execution_count": 3,
     "metadata": {},
     "output_type": "execute_result"
    }
   ],
   "source": [
    "timeseries = pd.read_csv(\"../raw-data/timeseries.csv\").rename(columns={\"id\": \"station_id\"})\n",
    "# read the unix timestamp column as datetime\n",
    "timeseries[\"time\"] = pd.to_datetime(timeseries[\"time\"], unit=\"s\")\n",
    "timeseries.tail()"
   ]
  },
  {
   "cell_type": "code",
   "execution_count": 4,
   "metadata": {},
   "outputs": [
    {
     "name": "stderr",
     "output_type": "stream",
     "text": [
      "100%|██████████| 245/245 [00:59<00:00,  4.13it/s]\n"
     ]
    }
   ],
   "source": [
    "station_availability = pd.DataFrame(columns=[\"station_id\", \"hour\", \"day\", \"availability\", \"threshold\"])\n",
    "# Iterate over all stations, resample the timeseries to 1m intervals \n",
    "# and for each hour, count the proportion of times when the station \n",
    "# had more than `threshold` bikes available\n",
    "unique_stations = timeseries[\"station_id\"].unique()\n",
    "for station_id in tqdm(unique_stations):\n",
    "    station_timeseries = timeseries[timeseries[\"station_id\"] == station_id]\n",
    "    station_timeseries = station_timeseries.drop_duplicates(subset=[\"station_id\", \"time\"]).set_index(\"time\").resample(\"1min\").ffill()\n",
    "    station_timeseries[\"hour\"] = station_timeseries.index.hour\n",
    "    station_timeseries[\"day\"] = station_timeseries.index.dayofweek\n",
    "    for available_bikes_threshold in range(1, 11):\n",
    "        station_timeseries[\"availability\"] = station_timeseries[\"bikes\"] >= available_bikes_threshold\n",
    "        station_timeseries_g = station_timeseries.groupby([\"hour\", \"day\"])[\"availability\"].mean().reset_index()\n",
    "        station_timeseries_g[\"station_id\"] = station_id\n",
    "        station_timeseries_g[\"threshold\"] = available_bikes_threshold\n",
    "        station_availability = station_availability.append(station_timeseries_g)"
   ]
  },
  {
   "cell_type": "code",
   "execution_count": 5,
   "metadata": {},
   "outputs": [
    {
     "data": {
      "text/plain": [
       "<matplotlib.legend.Legend at 0x7f19fbc6de20>"
      ]
     },
     "execution_count": 5,
     "metadata": {},
     "output_type": "execute_result"
    },
    {
     "data": {
      "image/png": "[encoded data removed]",
      "text/plain": [
       "<Figure size 1152x648 with 1 Axes>"
      ]
     },
     "metadata": {
      "image/png": {
       "height": 539,
       "width": 946
      }
     },
     "output_type": "display_data"
    }
   ],
   "source": [
    "for threshold in [1, 2, 3, 5, 10]:\n",
    "    sns.kdeplot(station_availability[station_availability[\"threshold\"] == threshold].reset_index().availability, clip=(0,1), bw_adjust=2, label=f\"At least {threshold} bikes available\")\n",
    "plt.legend(loc='upper left')"
   ]
  },
  {
   "cell_type": "code",
   "execution_count": 6,
   "metadata": {},
   "outputs": [
    {
     "data": {
      "text/plain": [
       "<AxesSubplot:xlabel='hour', ylabel='availability'>"
      ]
     },
     "execution_count": 6,
     "metadata": {},
     "output_type": "execute_result"
    },
    {
     "data": {
      "image/png": "[encoded data removed]",
      "text/plain": [
       "<Figure size 1152x648 with 1 Axes>"
      ]
     },
     "metadata": {
      "image/png": {
       "height": 539,
       "width": 957
      }
     },
     "output_type": "display_data"
    }
   ],
   "source": [
    "sns.lineplot(data=station_availability[(station_availability[\"threshold\"] == 2)].groupby([\"day\", \"hour\"]).mean(), x=\"hour\", y=\"availability\", hue=\"day\", palette=\"tab10\")"
   ]
  },
  {
   "cell_type": "code",
   "execution_count": 13,
   "metadata": {},
   "outputs": [],
   "source": [
    "# station_timeseries = timeseries[(timeseries[\"station_id\"] == 167) & (timeseries[\"time\"] > \"2022-11-01 01:00\")]\n",
    "# station_timeseries = station_timeseries.set_index(\"time\").resample(\"1min\").ffill()\n",
    "# station_timeseries.head(60)"
   ]
  },
  {
   "cell_type": "code",
   "execution_count": 12,
   "metadata": {},
   "outputs": [
    {
     "data": {
      "application/vnd.plotly.v1+json": {
       "config": {
        "plotlyServerURL": "https://plot.ly"
       },
       "data": [
        {
         "coloraxis": "coloraxis",
         "customdata": [
          [
           4,
           "-1.2333954659030777,-0.6200749251665508",
           0
          ],
          [
           3,
           "-1.2333954659030777,-0.6197225845626805",
           0
          ],
          [
           4,
           "-1.2331920419605866,-0.6200749251665508",
           0
          ],
          [
           4,
           "-1.2331920419605866,-0.6197225845626805",
           0
          ],
          [
           1,
           "-1.2331920419605866,-0.6193702439588102",
           0
          ],
          [
           6,
           "-1.2329886180180958,-0.6200749251665508",
           0
          ],
          [
           1,
           "-1.2329886180180958,-0.6197225845626805",
           0
          ],
          [
           8,
           "-1.2327851940756047,-0.6200749251665508",
           0
          ],
          [
           2,
           "-1.2327851940756047,-0.6197225845626805",
           0
          ],
          [
           1,
           "-1.2325817701331139,-0.6207796063742914",
           0
          ],
          [
           1,
           "-1.2325817701331139,-0.6200749251665508",
           0
          ],
          [
           8,
           "-1.2325817701331139,-0.6197225845626805",
           0
          ],
          [
           1,
           "-1.2325817701331139,-0.6193702439588102",
           0
          ],
          [
           3,
           "-1.2323783461906228,-0.6200749251665508",
           0
          ],
          [
           6,
           "-1.2323783461906228,-0.6197225845626805",
           0
          ],
          [
           4,
           "-1.2323783461906228,-0.6193702439588102",
           0
          ],
          [
           1,
           "-1.232174922248132,-0.6200749251665508",
           0
          ],
          [
           4,
           "-1.232174922248132,-0.6197225845626805",
           0
          ],
          [
           8,
           "-1.232174922248132,-0.6193702439588102",
           0
          ],
          [
           4,
           "-1.232174922248132,-0.6190179033549399",
           0
          ],
          [
           1,
           "-1.231971498305641,-0.6200749251665508",
           0
          ],
          [
           3,
           "-1.231971498305641,-0.6197225845626805",
           0
          ],
          [
           7,
           "-1.231971498305641,-0.6193702439588102",
           0
          ],
          [
           1,
           "-1.231971498305641,-0.6190179033549399",
           0
          ],
          [
           1,
           "-1.23176807436315,-0.6200749251665508",
           0
          ],
          [
           3,
           "-1.23176807436315,-0.6197225845626805",
           0
          ],
          [
           5,
           "-1.23176807436315,-0.6193702439588102",
           0
          ],
          [
           3,
           "-1.23176807436315,-0.6190179033549399",
           0
          ],
          [
           1,
           "-1.231564650420659,-0.6197225845626805",
           0
          ],
          [
           2,
           "-1.231564650420659,-0.6193702439588102",
           0
          ],
          [
           4,
           "-1.231564650420659,-0.6190179033549399",
           0
          ],
          [
           1,
           "-1.2313612264781681,-0.6197225845626805",
           0
          ],
          [
           3,
           "-1.2313612264781681,-0.6193702439588102",
           0
          ],
          [
           4,
           "-1.2313612264781681,-0.6190179033549399",
           0
          ],
          [
           2,
           "-1.231157802535677,-0.6197225845626805",
           0
          ],
          [
           2,
           "-1.231157802535677,-0.6193702439588102",
           0
          ],
          [
           2,
           "-1.231157802535677,-0.6190179033549399",
           0
          ],
          [
           2,
           "-1.2309543785931862,-0.6193702439588102",
           0
          ],
          [
           1,
           "-1.2309543785931862,-0.6186655627510697",
           0
          ],
          [
           1,
           "-1.2334971778743231,-0.6198987548646157",
           0
          ],
          [
           4,
           "-1.233293753931832,-0.6202510954684859",
           0
          ],
          [
           3,
           "-1.233293753931832,-0.6198987548646157",
           0
          ],
          [
           1,
           "-1.233293753931832,-0.6195464142607453",
           0
          ],
          [
           3,
           "-1.2330903299893412,-0.6202510954684859",
           0
          ],
          [
           5,
           "-1.2330903299893412,-0.6198987548646157",
           0
          ],
          [
           1,
           "-1.2330903299893412,-0.6195464142607453",
           0
          ],
          [
           1,
           "-1.2328869060468501,-0.6202510954684859",
           0
          ],
          [
           4,
           "-1.2328869060468501,-0.6198987548646157",
           0
          ],
          [
           3,
           "-1.2326834821043593,-0.6202510954684859",
           0
          ],
          [
           7,
           "-1.2326834821043593,-0.6198987548646157",
           0
          ],
          [
           1,
           "-1.2324800581618682,-0.6209557766762265",
           0
          ],
          [
           3,
           "-1.2324800581618682,-0.6198987548646157",
           0
          ],
          [
           8,
           "-1.2324800581618682,-0.6195464142607453",
           0
          ],
          [
           2,
           "-1.2322766342193774,-0.6202510954684859",
           0
          ],
          [
           3,
           "-1.2322766342193774,-0.6198987548646157",
           0
          ],
          [
           6,
           "-1.2322766342193774,-0.6195464142607453",
           0
          ],
          [
           1,
           "-1.2322766342193774,-0.6191940736568751",
           0
          ],
          [
           2,
           "-1.2320732102768863,-0.6202510954684859",
           0
          ],
          [
           1,
           "-1.2320732102768863,-0.6198987548646157",
           0
          ],
          [
           7,
           "-1.2320732102768863,-0.6195464142607453",
           0
          ],
          [
           4,
           "-1.2320732102768863,-0.6191940736568751",
           0
          ],
          [
           2,
           "-1.2318697863343955,-0.6202510954684859",
           0
          ],
          [
           1,
           "-1.2318697863343955,-0.6198987548646157",
           0
          ],
          [
           4,
           "-1.2318697863343955,-0.6195464142607453",
           0
          ],
          [
           5,
           "-1.2318697863343955,-0.6191940736568751",
           0
          ],
          [
           1,
           "-1.2316663623919046,-0.6202510954684859",
           0
          ],
          [
           5,
           "-1.2316663623919046,-0.6195464142607453",
           0
          ],
          [
           7,
           "-1.2316663623919046,-0.6191940736568751",
           0
          ],
          [
           1,
           "-1.2316663623919046,-0.6188417330530047",
           0
          ],
          [
           2,
           "-1.2314629384494136,-0.6195464142607453",
           0
          ],
          [
           4,
           "-1.2314629384494136,-0.6191940736568751",
           0
          ],
          [
           3,
           "-1.2312595145069227,-0.6195464142607453",
           0
          ],
          [
           3,
           "-1.2312595145069227,-0.6191940736568751",
           0
          ],
          [
           2,
           "-1.2312595145069227,-0.6188417330530047",
           0
          ],
          [
           1,
           "-1.2310560905644317,-0.6195464142607453",
           0
          ],
          [
           1,
           "-1.2310560905644317,-0.6188417330530047",
           0
          ],
          [
           3,
           "-1.2306492426794498,-0.6184893924491345",
           0
          ]
         ],
         "geojson": {
          "features": [
           {
            "geometry": {
             "coordinates": [
              [
               [
                -70.66835466681819,
                -33.453631490188876
               ],
               [
                -70.66252700013986,
                -33.450824246447716
               ],
               [
                -70.66252700013986,
                -33.44520948635675
               ],
               [
                -70.66835466681819,
                -33.44240197001455
               ],
               [
                -70.6741823334965,
                -33.44520948635675
               ],
               [
                -70.6741823334965,
                -33.450824246447716
               ],
               [
                -70.66835466681819,
                -33.453631490188876
               ]
              ]
             ],
             "type": "Polygon"
            },
            "id": "-1.2333954659030777,-0.6200749251665508",
            "type": "Feature"
           },
           {
            "geometry": {
             "coordinates": [
              [
               [
                -70.66835466681819,
                -33.436786664755715
               ],
               [
                -70.66252700013986,
                -33.43397887584667
               ],
               [
                -70.66252700013986,
                -33.42836302548839
               ],
               [
                -70.66835466681819,
                -33.42555496404674
               ],
               [
                -70.6741823334965,
                -33.42836302548839
               ],
               [
                -70.6741823334965,
                -33.43397887584667
               ],
               [
                -70.66835466681819,
                -33.436786664755715
               ]
              ]
             ],
             "type": "Polygon"
            },
            "id": "-1.2333954659030777,-0.6197225845626805",
            "type": "Feature"
           },
           {
            "geometry": {
             "coordinates": [
              [
               [
                -70.65669933346153,
                -33.453631490188876
               ],
               [
                -70.65087166678322,
                -33.450824246447716
               ],
               [
                -70.65087166678322,
                -33.44520948635675
               ],
               [
                -70.65669933346153,
                -33.44240197001455
               ],
               [
                -70.66252700013986,
                -33.44520948635675
               ],
               [
                -70.66252700013986,
                -33.450824246447716
               ],
               [
                -70.65669933346153,
                -33.453631490188876
               ]
              ]
             ],
             "type": "Polygon"
            },
            "id": "-1.2331920419605866,-0.6200749251665508",
            "type": "Feature"
           },
           {
            "geometry": {
             "coordinates": [
              [
               [
                -70.65669933346153,
                -33.436786664755715
               ],
               [
                -70.65087166678322,
                -33.43397887584667
               ],
               [
                -70.65087166678322,
                -33.42836302548839
               ],
               [
                -70.65669933346153,
                -33.42555496404674
               ],
               [
                -70.66252700013986,
                -33.42836302548839
               ],
               [
                -70.66252700013986,
                -33.43397887584667
               ],
               [
                -70.65669933346153,
                -33.436786664755715
               ]
              ]
             ],
             "type": "Polygon"
            },
            "id": "-1.2331920419605866,-0.6197225845626805",
            "type": "Feature"
           },
           {
            "geometry": {
             "coordinates": [
              [
               [
                -70.65669933346153,
                -33.41993856865748
               ],
               [
                -70.65087166678322,
                -33.41713023471749
               ],
               [
                -70.65087166678322,
                -33.41151329436582
               ],
               [
                -70.65669933346153,
                -33.40870468796175
               ],
               [
                -70.66252700013986,
                -33.41151329436582
               ],
               [
                -70.66252700013986,
                -33.41713023471749
               ],
               [
                -70.65669933346153,
                -33.41993856865748
               ]
              ]
             ],
             "type": "Polygon"
            },
            "id": "-1.2331920419605866,-0.6193702439588102",
            "type": "Feature"
           },
           {
            "geometry": {
             "coordinates": [
              [
               [
                -70.64504400010489,
                -33.453631490188876
               ],
               [
                -70.63921633342659,
                -33.450824246447716
               ],
               [
                -70.63921633342659,
                -33.44520948635675
               ],
               [
                -70.64504400010489,
                -33.44240197001455
               ],
               [
                -70.65087166678322,
                -33.44520948635675
               ],
               [
                -70.65087166678322,
                -33.450824246447716
               ],
               [
                -70.64504400010489,
                -33.453631490188876
               ]
              ]
             ],
             "type": "Polygon"
            },
            "id": "-1.2329886180180958,-0.6200749251665508",
            "type": "Feature"
           },
           {
            "geometry": {
             "coordinates": [
              [
               [
                -70.64504400010489,
                -33.436786664755715
               ],
               [
                -70.63921633342659,
                -33.43397887584667
               ],
               [
                -70.63921633342659,
                -33.42836302548839
               ],
               [
                -70.64504400010489,
                -33.42555496404674
               ],
               [
                -70.65087166678322,
                -33.42836302548839
               ],
               [
                -70.65087166678322,
                -33.43397887584667
               ],
               [
                -70.64504400010489,
                -33.436786664755715
               ]
              ]
             ],
             "type": "Polygon"
            },
            "id": "-1.2329886180180958,-0.6197225845626805",
            "type": "Feature"
           },
           {
            "geometry": {
             "coordinates": [
              [
               [
                -70.63338866674825,
                -33.453631490188876
               ],
               [
                -70.62756100006993,
                -33.450824246447716
               ],
               [
                -70.62756100006993,
                -33.44520948635675
               ],
               [
                -70.63338866674825,
                -33.44240197001455
               ],
               [
                -70.63921633342656,
                -33.44520948635675
               ],
               [
                -70.63921633342656,
                -33.450824246447716
               ],
               [
                -70.63338866674825,
                -33.453631490188876
               ]
              ]
             ],
             "type": "Polygon"
            },
            "id": "-1.2327851940756047,-0.6200749251665508",
            "type": "Feature"
           },
           {
            "geometry": {
             "coordinates": [
              [
               [
                -70.63338866674825,
                -33.436786664755715
               ],
               [
                -70.62756100006993,
                -33.43397887584667
               ],
               [
                -70.62756100006993,
                -33.42836302548839
               ],
               [
                -70.63338866674825,
                -33.42555496404674
               ],
               [
                -70.63921633342656,
                -33.42836302548839
               ],
               [
                -70.63921633342656,
                -33.43397887584667
               ],
               [
                -70.63338866674825,
                -33.436786664755715
               ]
              ]
             ],
             "type": "Polygon"
            },
            "id": "-1.2327851940756047,-0.6197225845626805",
            "type": "Feature"
           },
           {
            "geometry": {
             "coordinates": [
              [
               [
                -70.62173333339162,
                -33.487311325778215
               ],
               [
                -70.61590566671329,
                -33.48450517278271
               ],
               [
                -70.61590566671329,
                -33.47889259404654
               ],
               [
                -70.62173333339162,
                -33.47608616831345
               ],
               [
                -70.62756100006993,
                -33.47889259404654
               ],
               [
                -70.62756100006993,
                -33.48450517278271
               ],
               [
                -70.62173333339162,
                -33.487311325778215
               ]
              ]
             ],
             "type": "Polygon"
            },
            "id": "-1.2325817701331139,-0.6207796063742914",
            "type": "Feature"
           },
           {
            "geometry": {
             "coordinates": [
              [
               [
                -70.62173333339162,
                -33.453631490188876
               ],
               [
                -70.61590566671329,
                -33.450824246447716
               ],
               [
                -70.61590566671329,
                -33.44520948635675
               ],
               [
                -70.62173333339162,
                -33.44240197001455
               ],
               [
                -70.62756100006993,
                -33.44520948635675
               ],
               [
                -70.62756100006993,
                -33.450824246447716
               ],
               [
                -70.62173333339162,
                -33.453631490188876
               ]
              ]
             ],
             "type": "Polygon"
            },
            "id": "-1.2325817701331139,-0.6200749251665508",
            "type": "Feature"
           },
           {
            "geometry": {
             "coordinates": [
              [
               [
                -70.62173333339162,
                -33.436786664755715
               ],
               [
                -70.61590566671329,
                -33.43397887584667
               ],
               [
                -70.61590566671329,
                -33.42836302548839
               ],
               [
                -70.62173333339162,
                -33.42555496404674
               ],
               [
                -70.62756100006993,
                -33.42836302548839
               ],
               [
                -70.62756100006993,
                -33.43397887584667
               ],
               [
                -70.62173333339162,
                -33.436786664755715
               ]
              ]
             ],
             "type": "Polygon"
            },
            "id": "-1.2325817701331139,-0.6197225845626805",
            "type": "Feature"
           },
           {
            "geometry": {
             "coordinates": [
              [
               [
                -70.62173333339162,
                -33.41993856865748
               ],
               [
                -70.61590566671329,
                -33.41713023471749
               ],
               [
                -70.61590566671329,
                -33.41151329436582
               ],
               [
                -70.62173333339162,
                -33.40870468796175
               ],
               [
                -70.62756100006993,
                -33.41151329436582
               ],
               [
                -70.62756100006993,
                -33.41713023471749
               ],
               [
                -70.62173333339162,
                -33.41993856865748
               ]
              ]
             ],
             "type": "Polygon"
            },
            "id": "-1.2325817701331139,-0.6193702439588102",
            "type": "Feature"
           },
           {
            "geometry": {
             "coordinates": [
              [
               [
                -70.61007800003496,
                -33.453631490188876
               ],
               [
                -70.60425033335665,
                -33.450824246447716
               ],
               [
                -70.60425033335665,
                -33.44520948635675
               ],
               [
                -70.61007800003496,
                -33.44240197001455
               ],
               [
                -70.61590566671329,
                -33.44520948635675
               ],
               [
                -70.61590566671329,
                -33.450824246447716
               ],
               [
                -70.61007800003496,
                -33.453631490188876
               ]
              ]
             ],
             "type": "Polygon"
            },
            "id": "-1.2323783461906228,-0.6200749251665508",
            "type": "Feature"
           },
           {
            "geometry": {
             "coordinates": [
              [
               [
                -70.61007800003496,
                -33.436786664755715
               ],
               [
                -70.60425033335665,
                -33.43397887584667
               ],
               [
                -70.60425033335665,
                -33.42836302548839
               ],
               [
                -70.61007800003496,
                -33.42555496404674
               ],
               [
                -70.61590566671329,
                -33.42836302548839
               ],
               [
                -70.61590566671329,
                -33.43397887584667
               ],
               [
                -70.61007800003496,
                -33.436786664755715
               ]
              ]
             ],
             "type": "Polygon"
            },
            "id": "-1.2323783461906228,-0.6197225845626805",
            "type": "Feature"
           },
           {
            "geometry": {
             "coordinates": [
              [
               [
                -70.61007800003496,
                -33.41993856865748
               ],
               [
                -70.60425033335665,
                -33.41713023471749
               ],
               [
                -70.60425033335665,
                -33.41151329436582
               ],
               [
                -70.61007800003496,
                -33.40870468796175
               ],
               [
                -70.61590566671329,
                -33.41151329436582
               ],
               [
                -70.61590566671329,
                -33.41713023471749
               ],
               [
                -70.61007800003496,
                -33.41993856865748
               ]
              ]
             ],
             "type": "Polygon"
            },
            "id": "-1.2323783461906228,-0.6193702439588102",
            "type": "Feature"
           },
           {
            "geometry": {
             "coordinates": [
              [
               [
                -70.59842266667833,
                -33.453631490188876
               ],
               [
                -70.592595,
                -33.450824246447716
               ],
               [
                -70.592595,
                -33.44520948635675
               ],
               [
                -70.59842266667833,
                -33.44240197001455
               ],
               [
                -70.60425033335665,
                -33.44520948635675
               ],
               [
                -70.60425033335665,
                -33.450824246447716
               ],
               [
                -70.59842266667833,
                -33.453631490188876
               ]
              ]
             ],
             "type": "Polygon"
            },
            "id": "-1.232174922248132,-0.6200749251665508",
            "type": "Feature"
           },
           {
            "geometry": {
             "coordinates": [
              [
               [
                -70.59842266667833,
                -33.436786664755715
               ],
               [
                -70.592595,
                -33.43397887584667
               ],
               [
                -70.592595,
                -33.42836302548839
               ],
               [
                -70.59842266667833,
                -33.42555496404674
               ],
               [
                -70.60425033335665,
                -33.42836302548839
               ],
               [
                -70.60425033335665,
                -33.43397887584667
               ],
               [
                -70.59842266667833,
                -33.436786664755715
               ]
              ]
             ],
             "type": "Polygon"
            },
            "id": "-1.232174922248132,-0.6197225845626805",
            "type": "Feature"
           },
           {
            "geometry": {
             "coordinates": [
              [
               [
                -70.59842266667833,
                -33.41993856865748
               ],
               [
                -70.592595,
                -33.41713023471749
               ],
               [
                -70.592595,
                -33.41151329436582
               ],
               [
                -70.59842266667833,
                -33.40870468796175
               ],
               [
                -70.60425033335665,
                -33.41151329436582
               ],
               [
                -70.60425033335665,
                -33.41713023471749
               ],
               [
                -70.59842266667833,
                -33.41993856865748
               ]
              ]
             ],
             "type": "Polygon"
            },
            "id": "-1.232174922248132,-0.6193702439588102",
            "type": "Feature"
           },
           {
            "geometry": {
             "coordinates": [
              [
               [
                -70.59842266667833,
                -33.40308720271625
               ],
               [
                -70.592595,
                -33.400278323882446
               ],
               [
                -70.592595,
                -33.39466029381176
               ],
               [
                -70.59842266667833,
                -33.391851142582524
               ],
               [
                -70.60425033335665,
                -33.39466029381176
               ],
               [
                -70.60425033335665,
                -33.400278323882446
               ],
               [
                -70.59842266667833,
                -33.40308720271625
               ]
              ]
             ],
             "type": "Polygon"
            },
            "id": "-1.232174922248132,-0.6190179033549399",
            "type": "Feature"
           },
           {
            "geometry": {
             "coordinates": [
              [
               [
                -70.58676733332167,
                -33.453631490188876
               ],
               [
                -70.58093966664336,
                -33.450824246447716
               ],
               [
                -70.58093966664336,
                -33.44520948635675
               ],
               [
                -70.58676733332167,
                -33.44240197001455
               ],
               [
                -70.59259499999999,
                -33.44520948635675
               ],
               [
                -70.59259499999999,
                -33.450824246447716
               ],
               [
                -70.58676733332167,
                -33.453631490188876
               ]
              ]
             ],
             "type": "Polygon"
            },
            "id": "-1.231971498305641,-0.6200749251665508",
            "type": "Feature"
           },
           {
            "geometry": {
             "coordinates": [
              [
               [
                -70.58676733332167,
                -33.436786664755715
               ],
               [
                -70.58093966664336,
                -33.43397887584667
               ],
               [
                -70.58093966664336,
                -33.42836302548839
               ],
               [
                -70.58676733332167,
                -33.42555496404674
               ],
               [
                -70.59259499999999,
                -33.42836302548839
               ],
               [
                -70.59259499999999,
                -33.43397887584667
               ],
               [
                -70.58676733332167,
                -33.436786664755715
               ]
              ]
             ],
             "type": "Polygon"
            },
            "id": "-1.231971498305641,-0.6197225845626805",
            "type": "Feature"
           },
           {
            "geometry": {
             "coordinates": [
              [
               [
                -70.58676733332167,
                -33.41993856865748
               ],
               [
                -70.58093966664336,
                -33.41713023471749
               ],
               [
                -70.58093966664336,
                -33.41151329436582
               ],
               [
                -70.58676733332167,
                -33.40870468796175
               ],
               [
                -70.59259499999999,
                -33.41151329436582
               ],
               [
                -70.59259499999999,
                -33.41713023471749
               ],
               [
                -70.58676733332167,
                -33.41993856865748
               ]
              ]
             ],
             "type": "Polygon"
            },
            "id": "-1.231971498305641,-0.6193702439588102",
            "type": "Feature"
           },
           {
            "geometry": {
             "coordinates": [
              [
               [
                -70.58676733332167,
                -33.40308720271625
               ],
               [
                -70.58093966664336,
                -33.400278323882446
               ],
               [
                -70.58093966664336,
                -33.39466029381176
               ],
               [
                -70.58676733332167,
                -33.391851142582524
               ],
               [
                -70.59259499999999,
                -33.39466029381176
               ],
               [
                -70.59259499999999,
                -33.400278323882446
               ],
               [
                -70.58676733332167,
                -33.40308720271625
               ]
              ]
             ],
             "type": "Polygon"
            },
            "id": "-1.231971498305641,-0.6190179033549399",
            "type": "Feature"
           },
           {
            "geometry": {
             "coordinates": [
              [
               [
                -70.57511199996503,
                -33.453631490188876
               ],
               [
                -70.56928433328672,
                -33.450824246447716
               ],
               [
                -70.56928433328672,
                -33.44520948635675
               ],
               [
                -70.57511199996503,
                -33.44240197001455
               ],
               [
                -70.58093966664336,
                -33.44520948635675
               ],
               [
                -70.58093966664336,
                -33.450824246447716
               ],
               [
                -70.57511199996503,
                -33.453631490188876
               ]
              ]
             ],
             "type": "Polygon"
            },
            "id": "-1.23176807436315,-0.6200749251665508",
            "type": "Feature"
           },
           {
            "geometry": {
             "coordinates": [
              [
               [
                -70.57511199996503,
                -33.436786664755715
               ],
               [
                -70.56928433328672,
                -33.43397887584667
               ],
               [
                -70.56928433328672,
                -33.42836302548839
               ],
               [
                -70.57511199996503,
                -33.42555496404674
               ],
               [
                -70.58093966664336,
                -33.42836302548839
               ],
               [
                -70.58093966664336,
                -33.43397887584667
               ],
               [
                -70.57511199996503,
                -33.436786664755715
               ]
              ]
             ],
             "type": "Polygon"
            },
            "id": "-1.23176807436315,-0.6197225845626805",
            "type": "Feature"
           },
           {
            "geometry": {
             "coordinates": [
              [
               [
                -70.57511199996503,
                -33.41993856865748
               ],
               [
                -70.56928433328672,
                -33.41713023471749
               ],
               [
                -70.56928433328672,
                -33.41151329436582
               ],
               [
                -70.57511199996503,
                -33.40870468796175
               ],
               [
                -70.58093966664336,
                -33.41151329436582
               ],
               [
                -70.58093966664336,
                -33.41713023471749
               ],
               [
                -70.57511199996503,
                -33.41993856865748
               ]
              ]
             ],
             "type": "Polygon"
            },
            "id": "-1.23176807436315,-0.6193702439588102",
            "type": "Feature"
           },
           {
            "geometry": {
             "coordinates": [
              [
               [
                -70.57511199996503,
                -33.40308720271625
               ],
               [
                -70.56928433328672,
                -33.400278323882446
               ],
               [
                -70.56928433328672,
                -33.39466029381176
               ],
               [
                -70.57511199996503,
                -33.391851142582524
               ],
               [
                -70.58093966664336,
                -33.39466029381176
               ],
               [
                -70.58093966664336,
                -33.400278323882446
               ],
               [
                -70.57511199996503,
                -33.40308720271625
               ]
              ]
             ],
             "type": "Polygon"
            },
            "id": "-1.23176807436315,-0.6190179033549399",
            "type": "Feature"
           },
           {
            "geometry": {
             "coordinates": [
              [
               [
                -70.56345666660839,
                -33.436786664755715
               ],
               [
                -70.55762899993006,
                -33.43397887584667
               ],
               [
                -70.55762899993006,
                -33.42836302548839
               ],
               [
                -70.56345666660839,
                -33.42555496404674
               ],
               [
                -70.5692843332867,
                -33.42836302548839
               ],
               [
                -70.5692843332867,
                -33.43397887584667
               ],
               [
                -70.56345666660839,
                -33.436786664755715
               ]
              ]
             ],
             "type": "Polygon"
            },
            "id": "-1.231564650420659,-0.6197225845626805",
            "type": "Feature"
           },
           {
            "geometry": {
             "coordinates": [
              [
               [
                -70.56345666660839,
                -33.41993856865748
               ],
               [
                -70.55762899993006,
                -33.41713023471749
               ],
               [
                -70.55762899993006,
                -33.41151329436582
               ],
               [
                -70.56345666660839,
                -33.40870468796175
               ],
               [
                -70.5692843332867,
                -33.41151329436582
               ],
               [
                -70.5692843332867,
                -33.41713023471749
               ],
               [
                -70.56345666660839,
                -33.41993856865748
               ]
              ]
             ],
             "type": "Polygon"
            },
            "id": "-1.231564650420659,-0.6193702439588102",
            "type": "Feature"
           },
           {
            "geometry": {
             "coordinates": [
              [
               [
                -70.56345666660839,
                -33.40308720271625
               ],
               [
                -70.55762899993006,
                -33.400278323882446
               ],
               [
                -70.55762899993006,
                -33.39466029381176
               ],
               [
                -70.56345666660839,
                -33.391851142582524
               ],
               [
                -70.5692843332867,
                -33.39466029381176
               ],
               [
                -70.5692843332867,
                -33.400278323882446
               ],
               [
                -70.56345666660839,
                -33.40308720271625
               ]
              ]
             ],
             "type": "Polygon"
            },
            "id": "-1.231564650420659,-0.6190179033549399",
            "type": "Feature"
           },
           {
            "geometry": {
             "coordinates": [
              [
               [
                -70.55180133325175,
                -33.436786664755715
               ],
               [
                -70.54597366657343,
                -33.43397887584667
               ],
               [
                -70.54597366657343,
                -33.42836302548839
               ],
               [
                -70.55180133325175,
                -33.42555496404674
               ],
               [
                -70.55762899993006,
                -33.42836302548839
               ],
               [
                -70.55762899993006,
                -33.43397887584667
               ],
               [
                -70.55180133325175,
                -33.436786664755715
               ]
              ]
             ],
             "type": "Polygon"
            },
            "id": "-1.2313612264781681,-0.6197225845626805",
            "type": "Feature"
           },
           {
            "geometry": {
             "coordinates": [
              [
               [
                -70.55180133325175,
                -33.41993856865748
               ],
               [
                -70.54597366657343,
                -33.41713023471749
               ],
               [
                -70.54597366657343,
                -33.41151329436582
               ],
               [
                -70.55180133325175,
                -33.40870468796175
               ],
               [
                -70.55762899993006,
                -33.41151329436582
               ],
               [
                -70.55762899993006,
                -33.41713023471749
               ],
               [
                -70.55180133325175,
                -33.41993856865748
               ]
              ]
             ],
             "type": "Polygon"
            },
            "id": "-1.2313612264781681,-0.6193702439588102",
            "type": "Feature"
           },
           {
            "geometry": {
             "coordinates": [
              [
               [
                -70.55180133325175,
                -33.40308720271625
               ],
               [
                -70.54597366657343,
                -33.400278323882446
               ],
               [
                -70.54597366657343,
                -33.39466029381176
               ],
               [
                -70.55180133325175,
                -33.391851142582524
               ],
               [
                -70.55762899993006,
                -33.39466029381176
               ],
               [
                -70.55762899993006,
                -33.400278323882446
               ],
               [
                -70.55180133325175,
                -33.40308720271625
               ]
              ]
             ],
             "type": "Polygon"
            },
            "id": "-1.2313612264781681,-0.6190179033549399",
            "type": "Feature"
           },
           {
            "geometry": {
             "coordinates": [
              [
               [
                -70.5401459998951,
                -33.436786664755715
               ],
               [
                -70.53431833321677,
                -33.43397887584667
               ],
               [
                -70.53431833321677,
                -33.42836302548839
               ],
               [
                -70.5401459998951,
                -33.42555496404674
               ],
               [
                -70.54597366657342,
                -33.42836302548839
               ],
               [
                -70.54597366657342,
                -33.43397887584667
               ],
               [
                -70.5401459998951,
                -33.436786664755715
               ]
              ]
             ],
             "type": "Polygon"
            },
            "id": "-1.231157802535677,-0.6197225845626805",
            "type": "Feature"
           },
           {
            "geometry": {
             "coordinates": [
              [
               [
                -70.5401459998951,
                -33.41993856865748
               ],
               [
                -70.53431833321677,
                -33.41713023471749
               ],
               [
                -70.53431833321677,
                -33.41151329436582
               ],
               [
                -70.5401459998951,
                -33.40870468796175
               ],
               [
                -70.54597366657342,
                -33.41151329436582
               ],
               [
                -70.54597366657342,
                -33.41713023471749
               ],
               [
                -70.5401459998951,
                -33.41993856865748
               ]
              ]
             ],
             "type": "Polygon"
            },
            "id": "-1.231157802535677,-0.6193702439588102",
            "type": "Feature"
           },
           {
            "geometry": {
             "coordinates": [
              [
               [
                -70.5401459998951,
                -33.40308720271625
               ],
               [
                -70.53431833321677,
                -33.400278323882446
               ],
               [
                -70.53431833321677,
                -33.39466029381176
               ],
               [
                -70.5401459998951,
                -33.391851142582524
               ],
               [
                -70.54597366657342,
                -33.39466029381176
               ],
               [
                -70.54597366657342,
                -33.400278323882446
               ],
               [
                -70.5401459998951,
                -33.40308720271625
               ]
              ]
             ],
             "type": "Polygon"
            },
            "id": "-1.231157802535677,-0.6190179033549399",
            "type": "Feature"
           },
           {
            "geometry": {
             "coordinates": [
              [
               [
                -70.52849066653846,
                -33.41993856865748
               ],
               [
                -70.52266299986015,
                -33.41713023471749
               ],
               [
                -70.52266299986015,
                -33.41151329436582
               ],
               [
                -70.52849066653846,
                -33.40870468796175
               ],
               [
                -70.53431833321677,
                -33.41151329436582
               ],
               [
                -70.53431833321677,
                -33.41713023471749
               ],
               [
                -70.52849066653846,
                -33.41993856865748
               ]
              ]
             ],
             "type": "Polygon"
            },
            "id": "-1.2309543785931862,-0.6193702439588102",
            "type": "Feature"
           },
           {
            "geometry": {
             "coordinates": [
              [
               [
                -70.52849066653846,
                -33.38623256775538
               ],
               [
                -70.52266299986015,
                -33.383423144165086
               ],
               [
                -70.52266299986015,
                -33.37780402465021
               ],
               [
                -70.52849066653846,
                -33.37499432873326
               ],
               [
                -70.53431833321677,
                -33.37780402465021
               ],
               [
                -70.53431833321677,
                -33.383423144165086
               ],
               [
                -70.52849066653846,
                -33.38623256775538
               ]
              ]
             ],
             "type": "Polygon"
            },
            "id": "-1.2309543785931862,-0.6186655627510697",
            "type": "Feature"
           },
           {
            "geometry": {
             "coordinates": [
              [
               [
                -70.6741823334965,
                -33.44520948635675
               ],
               [
                -70.66835466681819,
                -33.44240197001455
               ],
               [
                -70.66835466681819,
                -33.436786664755715
               ],
               [
                -70.6741823334965,
                -33.43397887584667
               ],
               [
                -70.68001000017482,
                -33.436786664755715
               ],
               [
                -70.68001000017482,
                -33.44240197001455
               ],
               [
                -70.6741823334965,
                -33.44520948635675
               ]
              ]
             ],
             "type": "Polygon"
            },
            "id": "-1.2334971778743231,-0.6198987548646157",
            "type": "Feature"
           },
           {
            "geometry": {
             "coordinates": [
              [
               [
                -70.66252700013986,
                -33.46205267614951
               ],
               [
                -70.65669933346153,
                -33.45924570504357
               ],
               [
                -70.65669933346153,
                -33.453631490188876
               ],
               [
                -70.66252700013986,
                -33.45082424644771
               ],
               [
                -70.66835466681817,
                -33.453631490188876
               ],
               [
                -70.66835466681817,
                -33.45924570504357
               ],
               [
                -70.66252700013986,
                -33.46205267614951
               ]
              ]
             ],
             "type": "Polygon"
            },
            "id": "-1.233293753931832,-0.6202510954684859",
            "type": "Feature"
           },
           {
            "geometry": {
             "coordinates": [
              [
               [
                -70.66252700013986,
                -33.44520948635675
               ],
               [
                -70.65669933346153,
                -33.44240197001455
               ],
               [
                -70.65669933346153,
                -33.436786664755715
               ],
               [
                -70.66252700013986,
                -33.43397887584667
               ],
               [
                -70.66835466681817,
                -33.436786664755715
               ],
               [
                -70.66835466681817,
                -33.44240197001455
               ],
               [
                -70.66252700013986,
                -33.44520948635675
               ]
              ]
             ],
             "type": "Polygon"
            },
            "id": "-1.233293753931832,-0.6198987548646157",
            "type": "Feature"
           },
           {
            "geometry": {
             "coordinates": [
              [
               [
                -70.66252700013986,
                -33.42836302548839
               ],
               [
                -70.65669933346153,
                -33.42555496404674
               ],
               [
                -70.65669933346153,
                -33.41993856865748
               ],
               [
                -70.66252700013986,
                -33.41713023471749
               ],
               [
                -70.66835466681817,
                -33.41993856865748
               ],
               [
                -70.66835466681817,
                -33.42555496404674
               ],
               [
                -70.66252700013986,
                -33.42836302548839
               ]
              ]
             ],
             "type": "Polygon"
            },
            "id": "-1.233293753931832,-0.6195464142607453",
            "type": "Feature"
           },
           {
            "geometry": {
             "coordinates": [
              [
               [
                -70.65087166678322,
                -33.46205267614951
               ],
               [
                -70.64504400010489,
                -33.45924570504357
               ],
               [
                -70.64504400010489,
                -33.453631490188876
               ],
               [
                -70.65087166678322,
                -33.45082424644771
               ],
               [
                -70.65669933346153,
                -33.453631490188876
               ],
               [
                -70.65669933346153,
                -33.45924570504357
               ],
               [
                -70.65087166678322,
                -33.46205267614951
               ]
              ]
             ],
             "type": "Polygon"
            },
            "id": "-1.2330903299893412,-0.6202510954684859",
            "type": "Feature"
           },
           {
            "geometry": {
             "coordinates": [
              [
               [
                -70.65087166678322,
                -33.44520948635675
               ],
               [
                -70.64504400010489,
                -33.44240197001455
               ],
               [
                -70.64504400010489,
                -33.436786664755715
               ],
               [
                -70.65087166678322,
                -33.43397887584667
               ],
               [
                -70.65669933346153,
                -33.436786664755715
               ],
               [
                -70.65669933346153,
                -33.44240197001455
               ],
               [
                -70.65087166678322,
                -33.44520948635675
               ]
              ]
             ],
             "type": "Polygon"
            },
            "id": "-1.2330903299893412,-0.6198987548646157",
            "type": "Feature"
           },
           {
            "geometry": {
             "coordinates": [
              [
               [
                -70.65087166678322,
                -33.42836302548839
               ],
               [
                -70.64504400010489,
                -33.42555496404674
               ],
               [
                -70.64504400010489,
                -33.41993856865748
               ],
               [
                -70.65087166678322,
                -33.41713023471749
               ],
               [
                -70.65669933346153,
                -33.41993856865748
               ],
               [
                -70.65669933346153,
                -33.42555496404674
               ],
               [
                -70.65087166678322,
                -33.42836302548839
               ]
              ]
             ],
             "type": "Polygon"
            },
            "id": "-1.2330903299893412,-0.6195464142607453",
            "type": "Feature"
           },
           {
            "geometry": {
             "coordinates": [
              [
               [
                -70.63921633342656,
                -33.46205267614951
               ],
               [
                -70.63338866674825,
                -33.45924570504357
               ],
               [
                -70.63338866674825,
                -33.453631490188876
               ],
               [
                -70.63921633342656,
                -33.45082424644771
               ],
               [
                -70.64504400010489,
                -33.453631490188876
               ],
               [
                -70.64504400010489,
                -33.45924570504357
               ],
               [
                -70.63921633342656,
                -33.46205267614951
               ]
              ]
             ],
             "type": "Polygon"
            },
            "id": "-1.2328869060468501,-0.6202510954684859",
            "type": "Feature"
           },
           {
            "geometry": {
             "coordinates": [
              [
               [
                -70.63921633342656,
                -33.44520948635675
               ],
               [
                -70.63338866674825,
                -33.44240197001455
               ],
               [
                -70.63338866674825,
                -33.436786664755715
               ],
               [
                -70.63921633342656,
                -33.43397887584667
               ],
               [
                -70.64504400010489,
                -33.436786664755715
               ],
               [
                -70.64504400010489,
                -33.44240197001455
               ],
               [
                -70.63921633342656,
                -33.44520948635675
               ]
              ]
             ],
             "type": "Polygon"
            },
            "id": "-1.2328869060468501,-0.6198987548646157",
            "type": "Feature"
           },
           {
            "geometry": {
             "coordinates": [
              [
               [
                -70.62756100006993,
                -33.46205267614951
               ],
               [
                -70.62173333339162,
                -33.45924570504357
               ],
               [
                -70.62173333339162,
                -33.453631490188876
               ],
               [
                -70.62756100006993,
                -33.45082424644771
               ],
               [
                -70.63338866674825,
                -33.453631490188876
               ],
               [
                -70.63338866674825,
                -33.45924570504357
               ],
               [
                -70.62756100006993,
                -33.46205267614951
               ]
              ]
             ],
             "type": "Polygon"
            },
            "id": "-1.2326834821043593,-0.6202510954684859",
            "type": "Feature"
           },
           {
            "geometry": {
             "coordinates": [
              [
               [
                -70.62756100006993,
                -33.44520948635675
               ],
               [
                -70.62173333339162,
                -33.44240197001455
               ],
               [
                -70.62173333339162,
                -33.436786664755715
               ],
               [
                -70.62756100006993,
                -33.43397887584667
               ],
               [
                -70.63338866674825,
                -33.436786664755715
               ],
               [
                -70.63338866674825,
                -33.44240197001455
               ],
               [
                -70.62756100006993,
                -33.44520948635675
               ]
              ]
             ],
             "type": "Polygon"
            },
            "id": "-1.2326834821043593,-0.6198987548646157",
            "type": "Feature"
           },
           {
            "geometry": {
             "coordinates": [
              [
               [
                -70.61590566671329,
                -33.49572923922899
               ],
               [
                -70.61007800003496,
                -33.49292335900514
               ],
               [
                -70.61007800003496,
                -33.487311325778215
               ],
               [
                -70.61590566671329,
                -33.48450517278271
               ],
               [
                -70.6217333333916,
                -33.487311325778215
               ],
               [
                -70.6217333333916,
                -33.49292335900514
               ],
               [
                -70.61590566671329,
                -33.49572923922899
               ]
              ]
             ],
             "type": "Polygon"
            },
            "id": "-1.2324800581618682,-0.6209557766762265",
            "type": "Feature"
           },
           {
            "geometry": {
             "coordinates": [
              [
               [
                -70.61590566671329,
                -33.44520948635675
               ],
               [
                -70.61007800003496,
                -33.44240197001455
               ],
               [
                -70.61007800003496,
                -33.436786664755715
               ],
               [
                -70.61590566671329,
                -33.43397887584667
               ],
               [
                -70.6217333333916,
                -33.436786664755715
               ],
               [
                -70.6217333333916,
                -33.44240197001455
               ],
               [
                -70.61590566671329,
                -33.44520948635675
               ]
              ]
             ],
             "type": "Polygon"
            },
            "id": "-1.2324800581618682,-0.6198987548646157",
            "type": "Feature"
           },
           {
            "geometry": {
             "coordinates": [
              [
               [
                -70.61590566671329,
                -33.42836302548839
               ],
               [
                -70.61007800003496,
                -33.42555496404674
               ],
               [
                -70.61007800003496,
                -33.41993856865748
               ],
               [
                -70.61590566671329,
                -33.41713023471749
               ],
               [
                -70.6217333333916,
                -33.41993856865748
               ],
               [
                -70.6217333333916,
                -33.42555496404674
               ],
               [
                -70.61590566671329,
                -33.42836302548839
               ]
              ]
             ],
             "type": "Polygon"
            },
            "id": "-1.2324800581618682,-0.6195464142607453",
            "type": "Feature"
           },
           {
            "geometry": {
             "coordinates": [
              [
               [
                -70.60425033335665,
                -33.46205267614951
               ],
               [
                -70.59842266667833,
                -33.45924570504357
               ],
               [
                -70.59842266667833,
                -33.453631490188876
               ],
               [
                -70.60425033335665,
                -33.45082424644771
               ],
               [
                -70.61007800003496,
                -33.453631490188876
               ],
               [
                -70.61007800003496,
                -33.45924570504357
               ],
               [
                -70.60425033335665,
                -33.46205267614951
               ]
              ]
             ],
             "type": "Polygon"
            },
            "id": "-1.2322766342193774,-0.6202510954684859",
            "type": "Feature"
           },
           {
            "geometry": {
             "coordinates": [
              [
               [
                -70.60425033335665,
                -33.44520948635675
               ],
               [
                -70.59842266667833,
                -33.44240197001455
               ],
               [
                -70.59842266667833,
                -33.436786664755715
               ],
               [
                -70.60425033335665,
                -33.43397887584667
               ],
               [
                -70.61007800003496,
                -33.436786664755715
               ],
               [
                -70.61007800003496,
                -33.44240197001455
               ],
               [
                -70.60425033335665,
                -33.44520948635675
               ]
              ]
             ],
             "type": "Polygon"
            },
            "id": "-1.2322766342193774,-0.6198987548646157",
            "type": "Feature"
           },
           {
            "geometry": {
             "coordinates": [
              [
               [
                -70.60425033335665,
                -33.42836302548839
               ],
               [
                -70.59842266667833,
                -33.42555496404674
               ],
               [
                -70.59842266667833,
                -33.41993856865748
               ],
               [
                -70.60425033335665,
                -33.41713023471749
               ],
               [
                -70.61007800003496,
                -33.41993856865748
               ],
               [
                -70.61007800003496,
                -33.42555496404674
               ],
               [
                -70.60425033335665,
                -33.42836302548839
               ]
              ]
             ],
             "type": "Polygon"
            },
            "id": "-1.2322766342193774,-0.6195464142607453",
            "type": "Feature"
           },
           {
            "geometry": {
             "coordinates": [
              [
               [
                -70.60425033335665,
                -33.41151329436582
               ],
               [
                -70.59842266667833,
                -33.40870468796175
               ],
               [
                -70.59842266667833,
                -33.40308720271625
               ],
               [
                -70.60425033335665,
                -33.400278323882446
               ],
               [
                -70.61007800003496,
                -33.40308720271625
               ],
               [
                -70.61007800003496,
                -33.40870468796175
               ],
               [
                -70.60425033335665,
                -33.41151329436582
               ]
              ]
             ],
             "type": "Polygon"
            },
            "id": "-1.2322766342193774,-0.6191940736568751",
            "type": "Feature"
           },
           {
            "geometry": {
             "coordinates": [
              [
               [
                -70.59259499999999,
                -33.46205267614951
               ],
               [
                -70.58676733332167,
                -33.45924570504357
               ],
               [
                -70.58676733332167,
                -33.453631490188876
               ],
               [
                -70.59259499999999,
                -33.45082424644771
               ],
               [
                -70.5984226666783,
                -33.453631490188876
               ],
               [
                -70.5984226666783,
                -33.45924570504357
               ],
               [
                -70.59259499999999,
                -33.46205267614951
               ]
              ]
             ],
             "type": "Polygon"
            },
            "id": "-1.2320732102768863,-0.6202510954684859",
            "type": "Feature"
           },
           {
            "geometry": {
             "coordinates": [
              [
               [
                -70.59259499999999,
                -33.44520948635675
               ],
               [
                -70.58676733332167,
                -33.44240197001455
               ],
               [
                -70.58676733332167,
                -33.436786664755715
               ],
               [
                -70.59259499999999,
                -33.43397887584667
               ],
               [
                -70.5984226666783,
                -33.436786664755715
               ],
               [
                -70.5984226666783,
                -33.44240197001455
               ],
               [
                -70.59259499999999,
                -33.44520948635675
               ]
              ]
             ],
             "type": "Polygon"
            },
            "id": "-1.2320732102768863,-0.6198987548646157",
            "type": "Feature"
           },
           {
            "geometry": {
             "coordinates": [
              [
               [
                -70.59259499999999,
                -33.42836302548839
               ],
               [
                -70.58676733332167,
                -33.42555496404674
               ],
               [
                -70.58676733332167,
                -33.41993856865748
               ],
               [
                -70.59259499999999,
                -33.41713023471749
               ],
               [
                -70.5984226666783,
                -33.41993856865748
               ],
               [
                -70.5984226666783,
                -33.42555496404674
               ],
               [
                -70.59259499999999,
                -33.42836302548839
               ]
              ]
             ],
             "type": "Polygon"
            },
            "id": "-1.2320732102768863,-0.6195464142607453",
            "type": "Feature"
           },
           {
            "geometry": {
             "coordinates": [
              [
               [
                -70.59259499999999,
                -33.41151329436582
               ],
               [
                -70.58676733332167,
                -33.40870468796175
               ],
               [
                -70.58676733332167,
                -33.40308720271625
               ],
               [
                -70.59259499999999,
                -33.400278323882446
               ],
               [
                -70.5984226666783,
                -33.40308720271625
               ],
               [
                -70.5984226666783,
                -33.40870468796175
               ],
               [
                -70.59259499999999,
                -33.41151329436582
               ]
              ]
             ],
             "type": "Polygon"
            },
            "id": "-1.2320732102768863,-0.6191940736568751",
            "type": "Feature"
           },
           {
            "geometry": {
             "coordinates": [
              [
               [
                -70.58093966664336,
                -33.46205267614951
               ],
               [
                -70.57511199996503,
                -33.45924570504357
               ],
               [
                -70.57511199996503,
                -33.453631490188876
               ],
               [
                -70.58093966664336,
                -33.45082424644771
               ],
               [
                -70.58676733332167,
                -33.453631490188876
               ],
               [
                -70.58676733332167,
                -33.45924570504357
               ],
               [
                -70.58093966664336,
                -33.46205267614951
               ]
              ]
             ],
             "type": "Polygon"
            },
            "id": "-1.2318697863343955,-0.6202510954684859",
            "type": "Feature"
           },
           {
            "geometry": {
             "coordinates": [
              [
               [
                -70.58093966664336,
                -33.44520948635675
               ],
               [
                -70.57511199996503,
                -33.44240197001455
               ],
               [
                -70.57511199996503,
                -33.436786664755715
               ],
               [
                -70.58093966664336,
                -33.43397887584667
               ],
               [
                -70.58676733332167,
                -33.436786664755715
               ],
               [
                -70.58676733332167,
                -33.44240197001455
               ],
               [
                -70.58093966664336,
                -33.44520948635675
               ]
              ]
             ],
             "type": "Polygon"
            },
            "id": "-1.2318697863343955,-0.6198987548646157",
            "type": "Feature"
           },
           {
            "geometry": {
             "coordinates": [
              [
               [
                -70.58093966664336,
                -33.42836302548839
               ],
               [
                -70.57511199996503,
                -33.42555496404674
               ],
               [
                -70.57511199996503,
                -33.41993856865748
               ],
               [
                -70.58093966664336,
                -33.41713023471749
               ],
               [
                -70.58676733332167,
                -33.41993856865748
               ],
               [
                -70.58676733332167,
                -33.42555496404674
               ],
               [
                -70.58093966664336,
                -33.42836302548839
               ]
              ]
             ],
             "type": "Polygon"
            },
            "id": "-1.2318697863343955,-0.6195464142607453",
            "type": "Feature"
           },
           {
            "geometry": {
             "coordinates": [
              [
               [
                -70.58093966664336,
                -33.41151329436582
               ],
               [
                -70.57511199996503,
                -33.40870468796175
               ],
               [
                -70.57511199996503,
                -33.40308720271625
               ],
               [
                -70.58093966664336,
                -33.400278323882446
               ],
               [
                -70.58676733332167,
                -33.40308720271625
               ],
               [
                -70.58676733332167,
                -33.40870468796175
               ],
               [
                -70.58093966664336,
                -33.41151329436582
               ]
              ]
             ],
             "type": "Polygon"
            },
            "id": "-1.2318697863343955,-0.6191940736568751",
            "type": "Feature"
           },
           {
            "geometry": {
             "coordinates": [
              [
               [
                -70.56928433328672,
                -33.46205267614951
               ],
               [
                -70.5634566666084,
                -33.45924570504357
               ],
               [
                -70.5634566666084,
                -33.453631490188876
               ],
               [
                -70.56928433328672,
                -33.45082424644771
               ],
               [
                -70.57511199996503,
                -33.453631490188876
               ],
               [
                -70.57511199996503,
                -33.45924570504357
               ],
               [
                -70.56928433328672,
                -33.46205267614951
               ]
              ]
             ],
             "type": "Polygon"
            },
            "id": "-1.2316663623919046,-0.6202510954684859",
            "type": "Feature"
           },
           {
            "geometry": {
             "coordinates": [
              [
               [
                -70.56928433328672,
                -33.42836302548839
               ],
               [
                -70.5634566666084,
                -33.42555496404674
               ],
               [
                -70.5634566666084,
                -33.41993856865748
               ],
               [
                -70.56928433328672,
                -33.41713023471749
               ],
               [
                -70.57511199996503,
                -33.41993856865748
               ],
               [
                -70.57511199996503,
                -33.42555496404674
               ],
               [
                -70.56928433328672,
                -33.42836302548839
               ]
              ]
             ],
             "type": "Polygon"
            },
            "id": "-1.2316663623919046,-0.6195464142607453",
            "type": "Feature"
           },
           {
            "geometry": {
             "coordinates": [
              [
               [
                -70.56928433328672,
                -33.41151329436582
               ],
               [
                -70.5634566666084,
                -33.40870468796175
               ],
               [
                -70.5634566666084,
                -33.40308720271625
               ],
               [
                -70.56928433328672,
                -33.400278323882446
               ],
               [
                -70.57511199996503,
                -33.40308720271625
               ],
               [
                -70.57511199996503,
                -33.40870468796175
               ],
               [
                -70.56928433328672,
                -33.41151329436582
               ]
              ]
             ],
             "type": "Polygon"
            },
            "id": "-1.2316663623919046,-0.6191940736568751",
            "type": "Feature"
           },
           {
            "geometry": {
             "coordinates": [
              [
               [
                -70.56928433328672,
                -33.39466029381176
               ],
               [
                -70.5634566666084,
                -33.391851142582524
               ],
               [
                -70.5634566666084,
                -33.386232567755364
               ],
               [
                -70.56928433328672,
                -33.383423144165086
               ],
               [
                -70.57511199996503,
                -33.386232567755364
               ],
               [
                -70.57511199996503,
                -33.391851142582524
               ],
               [
                -70.56928433328672,
                -33.39466029381176
               ]
              ]
             ],
             "type": "Polygon"
            },
            "id": "-1.2316663623919046,-0.6188417330530047",
            "type": "Feature"
           },
           {
            "geometry": {
             "coordinates": [
              [
               [
                -70.55762899993006,
                -33.42836302548839
               ],
               [
                -70.55180133325175,
                -33.42555496404674
               ],
               [
                -70.55180133325175,
                -33.41993856865748
               ],
               [
                -70.55762899993006,
                -33.41713023471749
               ],
               [
                -70.56345666660839,
                -33.41993856865748
               ],
               [
                -70.56345666660839,
                -33.42555496404674
               ],
               [
                -70.55762899993006,
                -33.42836302548839
               ]
              ]
             ],
             "type": "Polygon"
            },
            "id": "-1.2314629384494136,-0.6195464142607453",
            "type": "Feature"
           },
           {
            "geometry": {
             "coordinates": [
              [
               [
                -70.55762899993006,
                -33.41151329436582
               ],
               [
                -70.55180133325175,
                -33.40870468796175
               ],
               [
                -70.55180133325175,
                -33.40308720271625
               ],
               [
                -70.55762899993006,
                -33.400278323882446
               ],
               [
                -70.56345666660839,
                -33.40308720271625
               ],
               [
                -70.56345666660839,
                -33.40870468796175
               ],
               [
                -70.55762899993006,
                -33.41151329436582
               ]
              ]
             ],
             "type": "Polygon"
            },
            "id": "-1.2314629384494136,-0.6191940736568751",
            "type": "Feature"
           },
           {
            "geometry": {
             "coordinates": [
              [
               [
                -70.54597366657343,
                -33.42836302548839
               ],
               [
                -70.54014599989512,
                -33.42555496404674
               ],
               [
                -70.54014599989512,
                -33.41993856865748
               ],
               [
                -70.54597366657343,
                -33.41713023471749
               ],
               [
                -70.55180133325175,
                -33.41993856865748
               ],
               [
                -70.55180133325175,
                -33.42555496404674
               ],
               [
                -70.54597366657343,
                -33.42836302548839
               ]
              ]
             ],
             "type": "Polygon"
            },
            "id": "-1.2312595145069227,-0.6195464142607453",
            "type": "Feature"
           },
           {
            "geometry": {
             "coordinates": [
              [
               [
                -70.54597366657343,
                -33.41151329436582
               ],
               [
                -70.54014599989512,
                -33.40870468796175
               ],
               [
                -70.54014599989512,
                -33.40308720271625
               ],
               [
                -70.54597366657343,
                -33.400278323882446
               ],
               [
                -70.55180133325175,
                -33.40308720271625
               ],
               [
                -70.55180133325175,
                -33.40870468796175
               ],
               [
                -70.54597366657343,
                -33.41151329436582
               ]
              ]
             ],
             "type": "Polygon"
            },
            "id": "-1.2312595145069227,-0.6191940736568751",
            "type": "Feature"
           },
           {
            "geometry": {
             "coordinates": [
              [
               [
                -70.54597366657343,
                -33.39466029381176
               ],
               [
                -70.54014599989512,
                -33.391851142582524
               ],
               [
                -70.54014599989512,
                -33.386232567755364
               ],
               [
                -70.54597366657343,
                -33.383423144165086
               ],
               [
                -70.55180133325175,
                -33.386232567755364
               ],
               [
                -70.55180133325175,
                -33.391851142582524
               ],
               [
                -70.54597366657343,
                -33.39466029381176
               ]
              ]
             ],
             "type": "Polygon"
            },
            "id": "-1.2312595145069227,-0.6188417330530047",
            "type": "Feature"
           },
           {
            "geometry": {
             "coordinates": [
              [
               [
                -70.53431833321677,
                -33.42836302548839
               ],
               [
                -70.52849066653846,
                -33.42555496404674
               ],
               [
                -70.52849066653846,
                -33.41993856865748
               ],
               [
                -70.53431833321677,
                -33.41713023471749
               ],
               [
                -70.5401459998951,
                -33.41993856865748
               ],
               [
                -70.5401459998951,
                -33.42555496404674
               ],
               [
                -70.53431833321677,
                -33.42836302548839
               ]
              ]
             ],
             "type": "Polygon"
            },
            "id": "-1.2310560905644317,-0.6195464142607453",
            "type": "Feature"
           },
           {
            "geometry": {
             "coordinates": [
              [
               [
                -70.53431833321677,
                -33.39466029381176
               ],
               [
                -70.52849066653846,
                -33.391851142582524
               ],
               [
                -70.52849066653846,
                -33.386232567755364
               ],
               [
                -70.53431833321677,
                -33.383423144165086
               ],
               [
                -70.5401459998951,
                -33.386232567755364
               ],
               [
                -70.5401459998951,
                -33.391851142582524
               ],
               [
                -70.53431833321677,
                -33.39466029381176
               ]
              ]
             ],
             "type": "Polygon"
            },
            "id": "-1.2310560905644317,-0.6188417330530047",
            "type": "Feature"
           },
           {
            "geometry": {
             "coordinates": [
              [
               [
                -70.5110076665035,
                -33.37780402465021
               ],
               [
                -70.50517999982517,
                -33.37499432873326
               ],
               [
                -70.50517999982517,
                -33.36937466459947
               ],
               [
                -70.5110076665035,
                -33.36656469639028
               ],
               [
                -70.5168353331818,
                -33.36937466459947
               ],
               [
                -70.5168353331818,
                -33.37499432873326
               ],
               [
                -70.5110076665035,
                -33.37780402465021
               ]
              ]
             ],
             "type": "Polygon"
            },
            "id": "-1.2306492426794498,-0.6184893924491345",
            "type": "Feature"
           }
          ],
          "type": "FeatureCollection"
         },
         "hovertemplate": "Point Count=%{z}<extra></extra>",
         "locations": [
          "-1.2333954659030777,-0.6200749251665508",
          "-1.2333954659030777,-0.6197225845626805",
          "-1.2331920419605866,-0.6200749251665508",
          "-1.2331920419605866,-0.6197225845626805",
          "-1.2331920419605866,-0.6193702439588102",
          "-1.2329886180180958,-0.6200749251665508",
          "-1.2329886180180958,-0.6197225845626805",
          "-1.2327851940756047,-0.6200749251665508",
          "-1.2327851940756047,-0.6197225845626805",
          "-1.2325817701331139,-0.6207796063742914",
          "-1.2325817701331139,-0.6200749251665508",
          "-1.2325817701331139,-0.6197225845626805",
          "-1.2325817701331139,-0.6193702439588102",
          "-1.2323783461906228,-0.6200749251665508",
          "-1.2323783461906228,-0.6197225845626805",
          "-1.2323783461906228,-0.6193702439588102",
          "-1.232174922248132,-0.6200749251665508",
          "-1.232174922248132,-0.6197225845626805",
          "-1.232174922248132,-0.6193702439588102",
          "-1.232174922248132,-0.6190179033549399",
          "-1.231971498305641,-0.6200749251665508",
          "-1.231971498305641,-0.6197225845626805",
          "-1.231971498305641,-0.6193702439588102",
          "-1.231971498305641,-0.6190179033549399",
          "-1.23176807436315,-0.6200749251665508",
          "-1.23176807436315,-0.6197225845626805",
          "-1.23176807436315,-0.6193702439588102",
          "-1.23176807436315,-0.6190179033549399",
          "-1.231564650420659,-0.6197225845626805",
          "-1.231564650420659,-0.6193702439588102",
          "-1.231564650420659,-0.6190179033549399",
          "-1.2313612264781681,-0.6197225845626805",
          "-1.2313612264781681,-0.6193702439588102",
          "-1.2313612264781681,-0.6190179033549399",
          "-1.231157802535677,-0.6197225845626805",
          "-1.231157802535677,-0.6193702439588102",
          "-1.231157802535677,-0.6190179033549399",
          "-1.2309543785931862,-0.6193702439588102",
          "-1.2309543785931862,-0.6186655627510697",
          "-1.2334971778743231,-0.6198987548646157",
          "-1.233293753931832,-0.6202510954684859",
          "-1.233293753931832,-0.6198987548646157",
          "-1.233293753931832,-0.6195464142607453",
          "-1.2330903299893412,-0.6202510954684859",
          "-1.2330903299893412,-0.6198987548646157",
          "-1.2330903299893412,-0.6195464142607453",
          "-1.2328869060468501,-0.6202510954684859",
          "-1.2328869060468501,-0.6198987548646157",
          "-1.2326834821043593,-0.6202510954684859",
          "-1.2326834821043593,-0.6198987548646157",
          "-1.2324800581618682,-0.6209557766762265",
          "-1.2324800581618682,-0.6198987548646157",
          "-1.2324800581618682,-0.6195464142607453",
          "-1.2322766342193774,-0.6202510954684859",
          "-1.2322766342193774,-0.6198987548646157",
          "-1.2322766342193774,-0.6195464142607453",
          "-1.2322766342193774,-0.6191940736568751",
          "-1.2320732102768863,-0.6202510954684859",
          "-1.2320732102768863,-0.6198987548646157",
          "-1.2320732102768863,-0.6195464142607453",
          "-1.2320732102768863,-0.6191940736568751",
          "-1.2318697863343955,-0.6202510954684859",
          "-1.2318697863343955,-0.6198987548646157",
          "-1.2318697863343955,-0.6195464142607453",
          "-1.2318697863343955,-0.6191940736568751",
          "-1.2316663623919046,-0.6202510954684859",
          "-1.2316663623919046,-0.6195464142607453",
          "-1.2316663623919046,-0.6191940736568751",
          "-1.2316663623919046,-0.6188417330530047",
          "-1.2314629384494136,-0.6195464142607453",
          "-1.2314629384494136,-0.6191940736568751",
          "-1.2312595145069227,-0.6195464142607453",
          "-1.2312595145069227,-0.6191940736568751",
          "-1.2312595145069227,-0.6188417330530047",
          "-1.2310560905644317,-0.6195464142607453",
          "-1.2310560905644317,-0.6188417330530047",
          "-1.2306492426794498,-0.6184893924491345"
         ],
         "marker": {
          "opacity": 0.5
         },
         "name": "",
         "subplot": "mapbox",
         "type": "choroplethmapbox",
         "z": [
          4,
          3,
          4,
          4,
          1,
          6,
          1,
          8,
          2,
          1,
          1,
          8,
          1,
          3,
          6,
          4,
          1,
          4,
          8,
          4,
          1,
          3,
          7,
          1,
          1,
          3,
          5,
          3,
          1,
          2,
          4,
          1,
          3,
          4,
          2,
          2,
          2,
          2,
          1,
          1,
          4,
          3,
          1,
          3,
          5,
          1,
          1,
          4,
          3,
          7,
          1,
          3,
          8,
          2,
          3,
          6,
          1,
          2,
          1,
          7,
          4,
          2,
          1,
          4,
          5,
          1,
          5,
          7,
          1,
          2,
          4,
          3,
          3,
          2,
          1,
          1,
          3
         ]
        },
        {
         "hoverinfo": "skip",
         "lat": [
          -33.41935,
          -33.44393,
          -33.43282,
          -33.41717,
          -33.41705,
          -33.43347,
          -33.42651,
          -33.43076,
          -33.42867,
          -33.44304,
          -33.42236,
          -33.42547,
          -33.42761,
          -33.43243,
          -33.44725,
          -33.41858,
          -33.43269,
          -33.41971,
          -33.43417,
          -33.42838,
          -33.43857,
          -33.43237,
          -33.4377,
          -33.43243,
          -33.424,
          -33.43533,
          -33.44533,
          -33.42019,
          -33.43549,
          -33.43744,
          -33.42352,
          -33.43991,
          -33.43426,
          -33.43721,
          -33.4252,
          -33.45279,
          -33.44869,
          -33.44029,
          -33.45018,
          -33.44976,
          -33.43795,
          -33.449,
          -33.447,
          -33.433,
          -33.401,
          -33.394,
          -33.398,
          -33.398,
          -33.40706,
          -33.45953,
          -33.43662,
          -33.43979,
          -33.44227,
          -33.4421,
          -33.44174,
          -33.45518,
          -33.43326,
          -33.43267,
          -33.43712,
          -33.44722,
          -33.43645,
          -33.43813,
          -33.44054,
          -33.4477,
          -33.45355,
          -33.4344,
          -33.41786,
          -33.41845,
          -33.42488,
          -33.40511,
          -33.402,
          -33.40038,
          -33.39909,
          -33.40398,
          -33.40311,
          -33.38841,
          -33.45867,
          -33.45133,
          -33.44922,
          -33.45261,
          -33.45391,
          -33.45539,
          -33.45457,
          -33.45252,
          -33.44673,
          -33.44624,
          -33.45395,
          -33.45285,
          -33.448,
          -33.45057,
          -33.44852,
          -33.49152,
          -33.47828,
          -33.42833,
          -33.43777,
          -33.40023,
          -33.4274,
          -33.43368,
          -33.43271,
          -33.44378,
          -33.455,
          -33.44066,
          -33.45153,
          -33.43668,
          -33.43613,
          -33.42088,
          -33.42124,
          -33.42942,
          -33.41924,
          -33.44172,
          -33.42922,
          -33.43514,
          -33.42164,
          -33.45174,
          -33.44162,
          -33.44523,
          -33.44539,
          -33.4349,
          -33.44508,
          -33.43255,
          -33.44746,
          -33.44663,
          -33.44523,
          -33.44889,
          -33.45676,
          -33.44518,
          -33.42911,
          -33.4538,
          -33.44532,
          -33.43521,
          -33.42877,
          -33.4255,
          -33.44074,
          -33.45521,
          -33.44971,
          -33.44432,
          -33.45429,
          -33.42215,
          -33.45498,
          -33.4138,
          -33.41634,
          -33.4115,
          -33.40081,
          -33.40705,
          -33.41364,
          -33.41554,
          -33.41728,
          -33.40549,
          -33.40852,
          -33.40833,
          -33.40797,
          -33.41797,
          -33.40373,
          -33.41403,
          -33.42734,
          -33.42618,
          -33.40663,
          -33.41582,
          -33.41695,
          -33.40189,
          -33.41827,
          -33.42358,
          -33.40595,
          -33.40302,
          -33.42732,
          -33.41466,
          -33.39828,
          -33.42088,
          -33.41916,
          -33.42074,
          -33.39028,
          -33.41128,
          -33.41527,
          -33.41376,
          -33.37828,
          -33.42513,
          -33.39694,
          -33.40849,
          -33.42072,
          -33.41818,
          -33.39441,
          -33.38419,
          -33.39476,
          -33.41659,
          -33.40937,
          -33.41092,
          -33.42817,
          -33.41065,
          -33.40885,
          -33.42745,
          -33.42441,
          -33.43009,
          -33.4008,
          -33.41425,
          -33.41452,
          -33.41599,
          -33.42114,
          -33.43103,
          -33.41362,
          -33.41445,
          -33.42064,
          -33.42511,
          -33.41342,
          -33.41541,
          -33.40218,
          -33.41428,
          -33.40887,
          -33.41771,
          -33.40649,
          -33.41565,
          -33.39774,
          -33.40581,
          -33.41611,
          -33.40121,
          -33.37578,
          -33.37078,
          -33.39096,
          -33.42929,
          -33.42937,
          -33.42363,
          -33.41961,
          -33.427,
          -33.42037,
          -33.42759,
          -33.42558,
          -33.41618,
          -33.40053,
          -33.40049,
          -33.41791,
          -33.39445,
          -33.41275,
          -33.40827,
          -33.42468,
          -33.3749,
          -33.4043,
          -33.41552,
          -33.42396,
          -33.43991
         ],
         "legendgroup": "",
         "lon": [
          -70.60962,
          -70.62565,
          -70.60363,
          -70.6055,
          -70.60497,
          -70.61503,
          -70.59106,
          -70.58627,
          -70.61984,
          -70.63198,
          -70.6145,
          -70.61352,
          -70.62222,
          -70.62587,
          -70.63092,
          -70.60134,
          -70.61135,
          -70.60618,
          -70.63446,
          -70.59484,
          -70.60657,
          -70.59385,
          -70.60375,
          -70.60604,
          -70.60891,
          -70.60463,
          -70.61776,
          -70.61815,
          -70.61937,
          -70.62798,
          -70.61862,
          -70.61979,
          -70.59949,
          -70.61159,
          -70.61982,
          -70.65765,
          -70.66818,
          -70.64708,
          -70.64306,
          -70.64145,
          -70.64114,
          -70.639,
          -70.635,
          -70.659,
          -70.602,
          -70.6,
          -70.601,
          -70.598,
          -70.60118,
          -70.64893,
          -70.65418,
          -70.65515,
          -70.65479,
          -70.64436,
          -70.65941,
          -70.63336,
          -70.6559,
          -70.65352,
          -70.64951,
          -70.64884,
          -70.64441,
          -70.65916,
          -70.68001,
          -70.66129,
          -70.66721,
          -70.65666,
          -70.65614,
          -70.66366,
          -70.6547,
          -70.59719,
          -70.59432,
          -70.59275,
          -70.58824,
          -70.58616,
          -70.58985,
          -70.56776,
          -70.66369,
          -70.6506,
          -70.67254,
          -70.57101,
          -70.57602,
          -70.58643,
          -70.59325,
          -70.6014,
          -70.60251,
          -70.57212,
          -70.60567,
          -70.62822,
          -70.61342,
          -70.60982,
          -70.58293,
          -70.61784,
          -70.62224,
          -70.62731,
          -70.57802,
          -70.5779,
          -70.61389,
          -70.62082,
          -70.63012,
          -70.64443,
          -70.59832,
          -70.63956,
          -70.66563,
          -70.63078,
          -70.62588,
          -70.61499,
          -70.61692,
          -70.62126,
          -70.61181,
          -70.618,
          -70.66931,
          -70.60871,
          -70.59732,
          -70.65962,
          -70.63841,
          -70.66804,
          -70.65931,
          -70.66492,
          -70.64251,
          -70.67319,
          -70.64206,
          -70.63861,
          -70.63678,
          -70.6322,
          -70.65988,
          -70.63106,
          -70.61696,
          -70.62174,
          -70.61199,
          -70.59106,
          -70.60726,
          -70.6063,
          -70.63002,
          -70.65106,
          -70.63618,
          -70.66204,
          -70.66289,
          -70.6074,
          -70.63989,
          -70.59254,
          -70.59273,
          -70.57697,
          -70.55517,
          -70.56152,
          -70.60578,
          -70.59569,
          -70.59541,
          -70.57917,
          -70.56696,
          -70.55652,
          -70.54575,
          -70.55255,
          -70.57343,
          -70.60233,
          -70.57879,
          -70.5906,
          -70.57264,
          -70.58956,
          -70.56465,
          -70.56911,
          -70.60119,
          -70.58067,
          -70.58616,
          -70.56261,
          -70.58446,
          -70.55761,
          -70.56019,
          -70.58455,
          -70.57765,
          -70.59233,
          -70.54789,
          -70.60241,
          -70.60374,
          -70.58409,
          -70.52837,
          -70.56365,
          -70.56747,
          -70.55205,
          -70.56438,
          -70.59125,
          -70.54496,
          -70.534,
          -70.56061,
          -70.53903,
          -70.54197,
          -70.57373,
          -70.57404,
          -70.58663,
          -70.56529,
          -70.54259,
          -70.54618,
          -70.56989,
          -70.54461,
          -70.53993,
          -70.54981,
          -70.53418,
          -70.57017,
          -70.58473,
          -70.57036,
          -70.58615,
          -70.54018,
          -70.55995,
          -70.57963,
          -70.59053,
          -70.57542,
          -70.59806,
          -70.56705,
          -70.54672,
          -70.57589,
          -70.58788,
          -70.55065,
          -70.54335,
          -70.57684,
          -70.55961,
          -70.50973,
          -70.50731,
          -70.54205,
          -70.55398,
          -70.56505,
          -70.53799,
          -70.56807,
          -70.53855,
          -70.58841,
          -70.57054,
          -70.55419,
          -70.52927,
          -70.57051,
          -70.54751,
          -70.58135,
          -70.55363,
          -70.5663,
          -70.58311,
          -70.59228,
          -70.50518,
          -70.57381,
          -70.61732,
          -70.59922,
          -70.63005
         ],
         "marker": {
          "color": "deeppink",
          "opacity": 1,
          "size": 5
         },
         "mode": "markers",
         "name": "",
         "showlegend": false,
         "subplot": "mapbox",
         "type": "scattermapbox"
        }
       ],
       "layout": {
        "coloraxis": {
         "cmax": 8,
         "cmin": 1,
         "colorbar": {
          "title": {
           "text": "Point Count"
          }
         },
         "colorscale": [
          [
           0,
           "#00224e"
          ],
          [
           0.1111111111111111,
           "#123570"
          ],
          [
           0.2222222222222222,
           "#3b496c"
          ],
          [
           0.3333333333333333,
           "#575d6d"
          ],
          [
           0.4444444444444444,
           "#707173"
          ],
          [
           0.5555555555555556,
           "#8a8678"
          ],
          [
           0.6666666666666666,
           "#a59c74"
          ],
          [
           0.7777777777777778,
           "#c3b369"
          ],
          [
           0.8888888888888888,
           "#e1cc55"
          ],
          [
           1,
           "#fee838"
          ]
         ]
        },
        "legend": {
         "tracegroupgap": 0
        },
        "mapbox": {
         "center": {
          "lat": -33.43115,
          "lon": -70.59259499999999
         },
         "domain": {
          "x": [
           0,
           1
          ],
          "y": [
           0,
           1
          ]
         },
         "style": "open-street-map",
         "zoom": 10.280529135880895
        },
        "margin": {
         "b": 0,
         "l": 0,
         "r": 0,
         "t": 0
        },
        "template": {
         "data": {
          "bar": [
           {
            "error_x": {
             "color": "#2a3f5f"
            },
            "error_y": {
             "color": "#2a3f5f"
            },
            "marker": {
             "line": {
              "color": "#E5ECF6",
              "width": 0.5
             },
             "pattern": {
              "fillmode": "overlay",
              "size": 10,
              "solidity": 0.2
             }
            },
            "type": "bar"
           }
          ],
          "barpolar": [
           {
            "marker": {
             "line": {
              "color": "#E5ECF6",
              "width": 0.5
             },
             "pattern": {
              "fillmode": "overlay",
              "size": 10,
              "solidity": 0.2
             }
            },
            "type": "barpolar"
           }
          ],
          "carpet": [
           {
            "aaxis": {
             "endlinecolor": "#2a3f5f",
             "gridcolor": "white",
             "linecolor": "white",
             "minorgridcolor": "white",
             "startlinecolor": "#2a3f5f"
            },
            "baxis": {
             "endlinecolor": "#2a3f5f",
             "gridcolor": "white",
             "linecolor": "white",
             "minorgridcolor": "white",
             "startlinecolor": "#2a3f5f"
            },
            "type": "carpet"
           }
          ],
          "choropleth": [
           {
            "colorbar": {
             "outlinewidth": 0,
             "ticks": ""
            },
            "type": "choropleth"
           }
          ],
          "contour": [
           {
            "colorbar": {
             "outlinewidth": 0,
             "ticks": ""
            },
            "colorscale": [
             [
              0,
              "#0d0887"
             ],
             [
              0.1111111111111111,
              "#46039f"
             ],
             [
              0.2222222222222222,
              "#7201a8"
             ],
             [
              0.3333333333333333,
              "#9c179e"
             ],
             [
              0.4444444444444444,
              "#bd3786"
             ],
             [
              0.5555555555555556,
              "#d8576b"
             ],
             [
              0.6666666666666666,
              "#ed7953"
             ],
             [
              0.7777777777777778,
              "#fb9f3a"
             ],
             [
              0.8888888888888888,
              "#fdca26"
             ],
             [
              1,
              "#f0f921"
             ]
            ],
            "type": "contour"
           }
          ],
          "contourcarpet": [
           {
            "colorbar": {
             "outlinewidth": 0,
             "ticks": ""
            },
            "type": "contourcarpet"
           }
          ],
          "heatmap": [
           {
            "colorbar": {
             "outlinewidth": 0,
             "ticks": ""
            },
            "colorscale": [
             [
              0,
              "#0d0887"
             ],
             [
              0.1111111111111111,
              "#46039f"
             ],
             [
              0.2222222222222222,
              "#7201a8"
             ],
             [
              0.3333333333333333,
              "#9c179e"
             ],
             [
              0.4444444444444444,
              "#bd3786"
             ],
             [
              0.5555555555555556,
              "#d8576b"
             ],
             [
              0.6666666666666666,
              "#ed7953"
             ],
             [
              0.7777777777777778,
              "#fb9f3a"
             ],
             [
              0.8888888888888888,
              "#fdca26"
             ],
             [
              1,
              "#f0f921"
             ]
            ],
            "type": "heatmap"
           }
          ],
          "heatmapgl": [
           {
            "colorbar": {
             "outlinewidth": 0,
             "ticks": ""
            },
            "colorscale": [
             [
              0,
              "#0d0887"
             ],
             [
              0.1111111111111111,
              "#46039f"
             ],
             [
              0.2222222222222222,
              "#7201a8"
             ],
             [
              0.3333333333333333,
              "#9c179e"
             ],
             [
              0.4444444444444444,
              "#bd3786"
             ],
             [
              0.5555555555555556,
              "#d8576b"
             ],
             [
              0.6666666666666666,
              "#ed7953"
             ],
             [
              0.7777777777777778,
              "#fb9f3a"
             ],
             [
              0.8888888888888888,
              "#fdca26"
             ],
             [
              1,
              "#f0f921"
             ]
            ],
            "type": "heatmapgl"
           }
          ],
          "histogram": [
           {
            "marker": {
             "pattern": {
              "fillmode": "overlay",
              "size": 10,
              "solidity": 0.2
             }
            },
            "type": "histogram"
           }
          ],
          "histogram2d": [
           {
            "colorbar": {
             "outlinewidth": 0,
             "ticks": ""
            },
            "colorscale": [
             [
              0,
              "#0d0887"
             ],
             [
              0.1111111111111111,
              "#46039f"
             ],
             [
              0.2222222222222222,
              "#7201a8"
             ],
             [
              0.3333333333333333,
              "#9c179e"
             ],
             [
              0.4444444444444444,
              "#bd3786"
             ],
             [
              0.5555555555555556,
              "#d8576b"
             ],
             [
              0.6666666666666666,
              "#ed7953"
             ],
             [
              0.7777777777777778,
              "#fb9f3a"
             ],
             [
              0.8888888888888888,
              "#fdca26"
             ],
             [
              1,
              "#f0f921"
             ]
            ],
            "type": "histogram2d"
           }
          ],
          "histogram2dcontour": [
           {
            "colorbar": {
             "outlinewidth": 0,
             "ticks": ""
            },
            "colorscale": [
             [
              0,
              "#0d0887"
             ],
             [
              0.1111111111111111,
              "#46039f"
             ],
             [
              0.2222222222222222,
              "#7201a8"
             ],
             [
              0.3333333333333333,
              "#9c179e"
             ],
             [
              0.4444444444444444,
              "#bd3786"
             ],
             [
              0.5555555555555556,
              "#d8576b"
             ],
             [
              0.6666666666666666,
              "#ed7953"
             ],
             [
              0.7777777777777778,
              "#fb9f3a"
             ],
             [
              0.8888888888888888,
              "#fdca26"
             ],
             [
              1,
              "#f0f921"
             ]
            ],
            "type": "histogram2dcontour"
           }
          ],
          "mesh3d": [
           {
            "colorbar": {
             "outlinewidth": 0,
             "ticks": ""
            },
            "type": "mesh3d"
           }
          ],
          "parcoords": [
           {
            "line": {
             "colorbar": {
              "outlinewidth": 0,
              "ticks": ""
             }
            },
            "type": "parcoords"
           }
          ],
          "pie": [
           {
            "automargin": true,
            "type": "pie"
           }
          ],
          "scatter": [
           {
            "fillpattern": {
             "fillmode": "overlay",
             "size": 10,
             "solidity": 0.2
            },
            "type": "scatter"
           }
          ],
          "scatter3d": [
           {
            "line": {
             "colorbar": {
              "outlinewidth": 0,
              "ticks": ""
             }
            },
            "marker": {
             "colorbar": {
              "outlinewidth": 0,
              "ticks": ""
             }
            },
            "type": "scatter3d"
           }
          ],
          "scattercarpet": [
           {
            "marker": {
             "colorbar": {
              "outlinewidth": 0,
              "ticks": ""
             }
            },
            "type": "scattercarpet"
           }
          ],
          "scattergeo": [
           {
            "marker": {
             "colorbar": {
              "outlinewidth": 0,
              "ticks": ""
             }
            },
            "type": "scattergeo"
           }
          ],
          "scattergl": [
           {
            "marker": {
             "colorbar": {
              "outlinewidth": 0,
              "ticks": ""
             }
            },
            "type": "scattergl"
           }
          ],
          "scattermapbox": [
           {
            "marker": {
             "colorbar": {
              "outlinewidth": 0,
              "ticks": ""
             }
            },
            "type": "scattermapbox"
           }
          ],
          "scatterpolar": [
           {
            "marker": {
             "colorbar": {
              "outlinewidth": 0,
              "ticks": ""
             }
            },
            "type": "scatterpolar"
           }
          ],
          "scatterpolargl": [
           {
            "marker": {
             "colorbar": {
              "outlinewidth": 0,
              "ticks": ""
             }
            },
            "type": "scatterpolargl"
           }
          ],
          "scatterternary": [
           {
            "marker": {
             "colorbar": {
              "outlinewidth": 0,
              "ticks": ""
             }
            },
            "type": "scatterternary"
           }
          ],
          "surface": [
           {
            "colorbar": {
             "outlinewidth": 0,
             "ticks": ""
            },
            "colorscale": [
             [
              0,
              "#0d0887"
             ],
             [
              0.1111111111111111,
              "#46039f"
             ],
             [
              0.2222222222222222,
              "#7201a8"
             ],
             [
              0.3333333333333333,
              "#9c179e"
             ],
             [
              0.4444444444444444,
              "#bd3786"
             ],
             [
              0.5555555555555556,
              "#d8576b"
             ],
             [
              0.6666666666666666,
              "#ed7953"
             ],
             [
              0.7777777777777778,
              "#fb9f3a"
             ],
             [
              0.8888888888888888,
              "#fdca26"
             ],
             [
              1,
              "#f0f921"
             ]
            ],
            "type": "surface"
           }
          ],
          "table": [
           {
            "cells": {
             "fill": {
              "color": "#EBF0F8"
             },
             "line": {
              "color": "white"
             }
            },
            "header": {
             "fill": {
              "color": "#C8D4E3"
             },
             "line": {
              "color": "white"
             }
            },
            "type": "table"
           }
          ]
         },
         "layout": {
          "annotationdefaults": {
           "arrowcolor": "#2a3f5f",
           "arrowhead": 0,
           "arrowwidth": 1
          },
          "autotypenumbers": "strict",
          "coloraxis": {
           "colorbar": {
            "outlinewidth": 0,
            "ticks": ""
           }
          },
          "colorscale": {
           "diverging": [
            [
             0,
             "#8e0152"
            ],
            [
             0.1,
             "#c51b7d"
            ],
            [
             0.2,
             "#de77ae"
            ],
            [
             0.3,
             "#f1b6da"
            ],
            [
             0.4,
             "#fde0ef"
            ],
            [
             0.5,
             "#f7f7f7"
            ],
            [
             0.6,
             "#e6f5d0"
            ],
            [
             0.7,
             "#b8e186"
            ],
            [
             0.8,
             "#7fbc41"
            ],
            [
             0.9,
             "#4d9221"
            ],
            [
             1,
             "#276419"
            ]
           ],
           "sequential": [
            [
             0,
             "#0d0887"
            ],
            [
             0.1111111111111111,
             "#46039f"
            ],
            [
             0.2222222222222222,
             "#7201a8"
            ],
            [
             0.3333333333333333,
             "#9c179e"
            ],
            [
             0.4444444444444444,
             "#bd3786"
            ],
            [
             0.5555555555555556,
             "#d8576b"
            ],
            [
             0.6666666666666666,
             "#ed7953"
            ],
            [
             0.7777777777777778,
             "#fb9f3a"
            ],
            [
             0.8888888888888888,
             "#fdca26"
            ],
            [
             1,
             "#f0f921"
            ]
           ],
           "sequentialminus": [
            [
             0,
             "#0d0887"
            ],
            [
             0.1111111111111111,
             "#46039f"
            ],
            [
             0.2222222222222222,
             "#7201a8"
            ],
            [
             0.3333333333333333,
             "#9c179e"
            ],
            [
             0.4444444444444444,
             "#bd3786"
            ],
            [
             0.5555555555555556,
             "#d8576b"
            ],
            [
             0.6666666666666666,
             "#ed7953"
            ],
            [
             0.7777777777777778,
             "#fb9f3a"
            ],
            [
             0.8888888888888888,
             "#fdca26"
            ],
            [
             1,
             "#f0f921"
            ]
           ]
          },
          "colorway": [
           "#636efa",
           "#EF553B",
           "#00cc96",
           "#ab63fa",
           "#FFA15A",
           "#19d3f3",
           "#FF6692",
           "#B6E880",
           "#FF97FF",
           "#FECB52"
          ],
          "font": {
           "color": "#2a3f5f"
          },
          "geo": {
           "bgcolor": "white",
           "lakecolor": "white",
           "landcolor": "#E5ECF6",
           "showlakes": true,
           "showland": true,
           "subunitcolor": "white"
          },
          "hoverlabel": {
           "align": "left"
          },
          "hovermode": "closest",
          "mapbox": {
           "style": "light"
          },
          "paper_bgcolor": "white",
          "plot_bgcolor": "#E5ECF6",
          "polar": {
           "angularaxis": {
            "gridcolor": "white",
            "linecolor": "white",
            "ticks": ""
           },
           "bgcolor": "#E5ECF6",
           "radialaxis": {
            "gridcolor": "white",
            "linecolor": "white",
            "ticks": ""
           }
          },
          "scene": {
           "xaxis": {
            "backgroundcolor": "#E5ECF6",
            "gridcolor": "white",
            "gridwidth": 2,
            "linecolor": "white",
            "showbackground": true,
            "ticks": "",
            "zerolinecolor": "white"
           },
           "yaxis": {
            "backgroundcolor": "#E5ECF6",
            "gridcolor": "white",
            "gridwidth": 2,
            "linecolor": "white",
            "showbackground": true,
            "ticks": "",
            "zerolinecolor": "white"
           },
           "zaxis": {
            "backgroundcolor": "#E5ECF6",
            "gridcolor": "white",
            "gridwidth": 2,
            "linecolor": "white",
            "showbackground": true,
            "ticks": "",
            "zerolinecolor": "white"
           }
          },
          "shapedefaults": {
           "line": {
            "color": "#2a3f5f"
           }
          },
          "ternary": {
           "aaxis": {
            "gridcolor": "white",
            "linecolor": "white",
            "ticks": ""
           },
           "baxis": {
            "gridcolor": "white",
            "linecolor": "white",
            "ticks": ""
           },
           "bgcolor": "#E5ECF6",
           "caxis": {
            "gridcolor": "white",
            "linecolor": "white",
            "ticks": ""
           }
          },
          "title": {
           "x": 0.05
          },
          "xaxis": {
           "automargin": true,
           "gridcolor": "white",
           "linecolor": "white",
           "ticks": "",
           "title": {
            "standoff": 15
           },
           "zerolinecolor": "white",
           "zerolinewidth": 2
          },
          "yaxis": {
           "automargin": true,
           "gridcolor": "white",
           "linecolor": "white",
           "ticks": "",
           "title": {
            "standoff": 15
           },
           "zerolinecolor": "white",
           "zerolinewidth": 2
          }
         }
        }
       }
      }
     },
     "metadata": {},
     "output_type": "display_data"
    }
   ],
   "source": [
    "fig = ff.create_hexbin_mapbox(\n",
    "    lat=metadata.lat, lon=metadata.lon, nx_hexagon=15, # animation_frame=frame,\n",
    "    color_continuous_scale=\"Cividis\", labels={\"color\": \"Point Count\", \"frame\": \"Period\"},\n",
    "    opacity=0.5, min_count=1,\n",
    "    show_original_data=True, original_data_marker=dict(opacity=1, size=5, color=\"deeppink\")\n",
    ")\n",
    "fig.update_layout(margin=dict(b=0, t=0, l=0, r=0), mapbox_style=\"open-street-map\")\n",
    "# fig.layout.sliders[0].pad.t=20\n",
    "# fig.layout.updatemenus[0].pad.t=40\n",
    "fig.show()\n"
   ]
  },
  {
   "cell_type": "code",
   "execution_count": 18,
   "metadata": {},
   "outputs": [],
   "source": [
    "station_availability[[\"day\", \"hour\", \"threshold\", \"station_id\", \"availability\"]].to_csv(\"../processed-data/station_bike_availability.csv\", index=False, float_format='%.3f')"
   ]
  },
  {
   "cell_type": "code",
   "execution_count": null,
   "metadata": {},
   "outputs": [],
   "source": []
  }
 ],
 "metadata": {
  "kernelspec": {
   "display_name": "Python 3.8.10 ('notebooks-noypvBLr-py3.8')",
   "language": "python",
   "name": "python3"
  },
  "language_info": {
   "codemirror_mode": {
    "name": "ipython",
    "version": 3
   },
   "file_extension": ".py",
   "mimetype": "text/x-python",
   "name": "python",
   "nbconvert_exporter": "python",
   "pygments_lexer": "ipython3",
   "version": "3.8.10"
  },
  "orig_nbformat": 4,
  "vscode": {
   "interpreter": {
    "hash": "2b40c4f49022c414f85f7799b081cb882f616cbfa882f57bde972944e35d6e37"
   }
  }
 },
 "nbformat": 4,
 "nbformat_minor": 2
}
